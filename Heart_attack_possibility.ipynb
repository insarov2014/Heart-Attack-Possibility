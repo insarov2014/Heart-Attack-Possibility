{
  "nbformat": 4,
  "nbformat_minor": 0,
  "metadata": {
    "colab": {
      "name": "Heart attack possibility.ipynb",
      "provenance": [],
      "collapsed_sections": []
    },
    "kernelspec": {
      "name": "python3",
      "display_name": "Python 3"
    },
    "language_info": {
      "name": "python"
    }
  },
  "cells": [
    {
      "cell_type": "markdown",
      "metadata": {
        "id": "Ehd3pNmAL3A9"
      },
      "source": [
        "# About data set"
      ]
    },
    {
      "cell_type": "markdown",
      "metadata": {
        "id": "kb3tC3fjijjH"
      },
      "source": [
        "This database contains 76 attributes, but all published experiments refer to using a subset of 14 of them. In particular, the Cleveland database is the only one that has been used by ML researchers to\n",
        "this date.The \"target\" field refers to the presence of heart disease in the patient. It is integer valued 0 = no/less chance of heart attack and 1 = more chance of heart attack\n",
        "\n",
        "Attribute Information\n",
        "\n",
        "1) age\n",
        "\n",
        "2) sex\n",
        "\n",
        "3) chest pain type (4 values)\n",
        "\n",
        "4) resting blood pressure\n",
        "\n",
        "5) serum cholestoral in mg/dl\n",
        "\n",
        "6) fasting blood sugar > 120 mg/dl\n",
        "\n",
        "7) resting electrocardiographic results (values 0,1,2)\n",
        "\n",
        "8) maximum heart rate achieved\n",
        "\n",
        "9) exercise induced angina\n",
        "\n",
        "10) oldpeak = ST depression induced by exercise relative to rest\n",
        "\n",
        "11) the slope of the peak exercise ST segment\n",
        "\n",
        "12) number of major vessels (0-3) colored by flourosopy\n",
        "\n",
        "13) thal: 0 = normal; 1 = fixed defect; 2 = reversable defect\n",
        "\n",
        "14) target: 0= less chance of heart attack 1= more chance of heart attack\n",
        "\n",
        "Dataset is taken for learning purpose. Source of the data : https://archive.ics.uci.edu/ml/datasets/Heart+Disease"
      ]
    },
    {
      "cell_type": "markdown",
      "metadata": {
        "id": "Gj3qksJqLgQz"
      },
      "source": [
        "# Import data"
      ]
    },
    {
      "cell_type": "code",
      "metadata": {
        "id": "lk6yo5iNg3GG"
      },
      "source": [
        "import numpy as np\n",
        "import pandas as pd\n",
        "import matplotlib.pyplot as plt\n",
        "%matplotlib inline\n",
        "import warnings\n",
        "warnings.filterwarnings('ignore')"
      ],
      "execution_count": 1,
      "outputs": []
    },
    {
      "cell_type": "code",
      "metadata": {
        "colab": {
          "base_uri": "https://localhost:8080/",
          "height": 221
        },
        "id": "FYNeB4OVhOfU",
        "outputId": "3815d0a3-fa2c-44a5-f187-db33d3dac3a6"
      },
      "source": [
        "#Mount your Google drive so you can read them easily\n",
        "from google.colab import drive\n",
        "drive.mount('/content/gdrive')\n",
        "DataFile = pd.read_csv(\"/content/gdrive/My Drive/Colab Notebooks/Heart Attack Possibility/heart.csv\")\n",
        "DataFile.head()"
      ],
      "execution_count": 2,
      "outputs": [
        {
          "output_type": "stream",
          "name": "stdout",
          "text": [
            "Mounted at /content/gdrive\n"
          ]
        },
        {
          "output_type": "execute_result",
          "data": {
            "text/html": [
              "<div>\n",
              "<style scoped>\n",
              "    .dataframe tbody tr th:only-of-type {\n",
              "        vertical-align: middle;\n",
              "    }\n",
              "\n",
              "    .dataframe tbody tr th {\n",
              "        vertical-align: top;\n",
              "    }\n",
              "\n",
              "    .dataframe thead th {\n",
              "        text-align: right;\n",
              "    }\n",
              "</style>\n",
              "<table border=\"1\" class=\"dataframe\">\n",
              "  <thead>\n",
              "    <tr style=\"text-align: right;\">\n",
              "      <th></th>\n",
              "      <th>age</th>\n",
              "      <th>sex</th>\n",
              "      <th>cp</th>\n",
              "      <th>trestbps</th>\n",
              "      <th>chol</th>\n",
              "      <th>fbs</th>\n",
              "      <th>restecg</th>\n",
              "      <th>thalach</th>\n",
              "      <th>exang</th>\n",
              "      <th>oldpeak</th>\n",
              "      <th>slope</th>\n",
              "      <th>ca</th>\n",
              "      <th>thal</th>\n",
              "      <th>target</th>\n",
              "    </tr>\n",
              "  </thead>\n",
              "  <tbody>\n",
              "    <tr>\n",
              "      <th>0</th>\n",
              "      <td>63</td>\n",
              "      <td>1</td>\n",
              "      <td>3</td>\n",
              "      <td>145</td>\n",
              "      <td>233</td>\n",
              "      <td>1</td>\n",
              "      <td>0</td>\n",
              "      <td>150</td>\n",
              "      <td>0</td>\n",
              "      <td>2.3</td>\n",
              "      <td>0</td>\n",
              "      <td>0</td>\n",
              "      <td>1</td>\n",
              "      <td>1</td>\n",
              "    </tr>\n",
              "    <tr>\n",
              "      <th>1</th>\n",
              "      <td>37</td>\n",
              "      <td>1</td>\n",
              "      <td>2</td>\n",
              "      <td>130</td>\n",
              "      <td>250</td>\n",
              "      <td>0</td>\n",
              "      <td>1</td>\n",
              "      <td>187</td>\n",
              "      <td>0</td>\n",
              "      <td>3.5</td>\n",
              "      <td>0</td>\n",
              "      <td>0</td>\n",
              "      <td>2</td>\n",
              "      <td>1</td>\n",
              "    </tr>\n",
              "    <tr>\n",
              "      <th>2</th>\n",
              "      <td>41</td>\n",
              "      <td>0</td>\n",
              "      <td>1</td>\n",
              "      <td>130</td>\n",
              "      <td>204</td>\n",
              "      <td>0</td>\n",
              "      <td>0</td>\n",
              "      <td>172</td>\n",
              "      <td>0</td>\n",
              "      <td>1.4</td>\n",
              "      <td>2</td>\n",
              "      <td>0</td>\n",
              "      <td>2</td>\n",
              "      <td>1</td>\n",
              "    </tr>\n",
              "    <tr>\n",
              "      <th>3</th>\n",
              "      <td>56</td>\n",
              "      <td>1</td>\n",
              "      <td>1</td>\n",
              "      <td>120</td>\n",
              "      <td>236</td>\n",
              "      <td>0</td>\n",
              "      <td>1</td>\n",
              "      <td>178</td>\n",
              "      <td>0</td>\n",
              "      <td>0.8</td>\n",
              "      <td>2</td>\n",
              "      <td>0</td>\n",
              "      <td>2</td>\n",
              "      <td>1</td>\n",
              "    </tr>\n",
              "    <tr>\n",
              "      <th>4</th>\n",
              "      <td>57</td>\n",
              "      <td>0</td>\n",
              "      <td>0</td>\n",
              "      <td>120</td>\n",
              "      <td>354</td>\n",
              "      <td>0</td>\n",
              "      <td>1</td>\n",
              "      <td>163</td>\n",
              "      <td>1</td>\n",
              "      <td>0.6</td>\n",
              "      <td>2</td>\n",
              "      <td>0</td>\n",
              "      <td>2</td>\n",
              "      <td>1</td>\n",
              "    </tr>\n",
              "  </tbody>\n",
              "</table>\n",
              "</div>"
            ],
            "text/plain": [
              "   age  sex  cp  trestbps  chol  fbs  ...  exang  oldpeak  slope  ca  thal  target\n",
              "0   63    1   3       145   233    1  ...      0      2.3      0   0     1       1\n",
              "1   37    1   2       130   250    0  ...      0      3.5      0   0     2       1\n",
              "2   41    0   1       130   204    0  ...      0      1.4      2   0     2       1\n",
              "3   56    1   1       120   236    0  ...      0      0.8      2   0     2       1\n",
              "4   57    0   0       120   354    0  ...      1      0.6      2   0     2       1\n",
              "\n",
              "[5 rows x 14 columns]"
            ]
          },
          "metadata": {},
          "execution_count": 2
        }
      ]
    },
    {
      "cell_type": "markdown",
      "metadata": {
        "id": "8GnU-41WLkan"
      },
      "source": [
        "I will use the 13 columns as features and the last column as the label and seek a model that help predict the label (if a person would probably have a heart attack). Firstly, I leave a small subset of the original data for a test data for final verification."
      ]
    },
    {
      "cell_type": "markdown",
      "metadata": {
        "id": "lo4Sks3zwfhb"
      },
      "source": [
        "#Sample a test data"
      ]
    },
    {
      "cell_type": "markdown",
      "metadata": {
        "id": "ikzaje5KMZ7s"
      },
      "source": [
        "I use stratified sampling to do the splitting so I will have two subsets which have the same ratio of positive labels to negative labels."
      ]
    },
    {
      "cell_type": "code",
      "metadata": {
        "colab": {
          "base_uri": "https://localhost:8080/"
        },
        "id": "w65LnkmoweVj",
        "outputId": "827a5e52-a720-4c63-902f-cf7ecbe33c10"
      },
      "source": [
        "from sklearn.model_selection import StratifiedShuffleSplit\n",
        "\n",
        "split = StratifiedShuffleSplit(n_splits=1, test_size=0.2, random_state=123)\n",
        "for train_index, test_index in split.split(DataFile, DataFile['target']):\n",
        "    train_set = DataFile.loc[train_index]\n",
        "    test_set = DataFile.loc[test_index]\n",
        "\n",
        "print(train_set.shape, test_set.shape)"
      ],
      "execution_count": 3,
      "outputs": [
        {
          "output_type": "stream",
          "name": "stdout",
          "text": [
            "(242, 14) (61, 14)\n"
          ]
        }
      ]
    },
    {
      "cell_type": "markdown",
      "metadata": {
        "id": "nTQCRSmPw4aU"
      },
      "source": [
        "#Explore the data"
      ]
    },
    {
      "cell_type": "markdown",
      "metadata": {
        "id": "amkEYTIDOwxM"
      },
      "source": [
        "The very first step is to check the data type for each column."
      ]
    },
    {
      "cell_type": "code",
      "metadata": {
        "colab": {
          "base_uri": "https://localhost:8080/"
        },
        "id": "e36GCn4diisc",
        "outputId": "9fbd85ba-9364-448c-d4ee-a1ea87f5147d"
      },
      "source": [
        "train_set.info()"
      ],
      "execution_count": 4,
      "outputs": [
        {
          "output_type": "stream",
          "name": "stdout",
          "text": [
            "<class 'pandas.core.frame.DataFrame'>\n",
            "Int64Index: 242 entries, 184 to 115\n",
            "Data columns (total 14 columns):\n",
            " #   Column    Non-Null Count  Dtype  \n",
            "---  ------    --------------  -----  \n",
            " 0   age       242 non-null    int64  \n",
            " 1   sex       242 non-null    int64  \n",
            " 2   cp        242 non-null    int64  \n",
            " 3   trestbps  242 non-null    int64  \n",
            " 4   chol      242 non-null    int64  \n",
            " 5   fbs       242 non-null    int64  \n",
            " 6   restecg   242 non-null    int64  \n",
            " 7   thalach   242 non-null    int64  \n",
            " 8   exang     242 non-null    int64  \n",
            " 9   oldpeak   242 non-null    float64\n",
            " 10  slope     242 non-null    int64  \n",
            " 11  ca        242 non-null    int64  \n",
            " 12  thal      242 non-null    int64  \n",
            " 13  target    242 non-null    int64  \n",
            "dtypes: float64(1), int64(13)\n",
            "memory usage: 28.4 KB\n"
          ]
        }
      ]
    },
    {
      "cell_type": "markdown",
      "metadata": {
        "id": "5BeK-e9ekpTS"
      },
      "source": [
        "DataFile contains both numerical features and categorical features. Some of the data types are wrong, I'm going to revise them in the next step."
      ]
    },
    {
      "cell_type": "code",
      "metadata": {
        "colab": {
          "base_uri": "https://localhost:8080/"
        },
        "id": "IwYcp4n9lEnh",
        "outputId": "036c8fa8-052a-4445-de30-2e79a0b6fcfb"
      },
      "source": [
        "cat_list = ['sex', 'cp', 'fbs', 'restecg', 'exang', 'slope', 'ca', 'thal', 'target']\n",
        "for fea in cat_list:\n",
        "  train_set[fea] = train_set[fea].astype(\"category\")\n",
        "\n",
        "train_set.info()"
      ],
      "execution_count": 5,
      "outputs": [
        {
          "output_type": "stream",
          "name": "stdout",
          "text": [
            "<class 'pandas.core.frame.DataFrame'>\n",
            "Int64Index: 242 entries, 184 to 115\n",
            "Data columns (total 14 columns):\n",
            " #   Column    Non-Null Count  Dtype   \n",
            "---  ------    --------------  -----   \n",
            " 0   age       242 non-null    int64   \n",
            " 1   sex       242 non-null    category\n",
            " 2   cp        242 non-null    category\n",
            " 3   trestbps  242 non-null    int64   \n",
            " 4   chol      242 non-null    int64   \n",
            " 5   fbs       242 non-null    category\n",
            " 6   restecg   242 non-null    category\n",
            " 7   thalach   242 non-null    int64   \n",
            " 8   exang     242 non-null    category\n",
            " 9   oldpeak   242 non-null    float64 \n",
            " 10  slope     242 non-null    category\n",
            " 11  ca        242 non-null    category\n",
            " 12  thal      242 non-null    category\n",
            " 13  target    242 non-null    category\n",
            "dtypes: category(9), float64(1), int64(4)\n",
            "memory usage: 14.6 KB\n"
          ]
        }
      ]
    },
    {
      "cell_type": "markdown",
      "metadata": {
        "id": "XCUoTP0Cobkr"
      },
      "source": [
        "# *Check duplicated instances*"
      ]
    },
    {
      "cell_type": "code",
      "metadata": {
        "colab": {
          "base_uri": "https://localhost:8080/"
        },
        "id": "cbA2iG37mcuf",
        "outputId": "1ab381ef-2bdc-456b-e320-d7c51ad99941"
      },
      "source": [
        "# Any duplicated observations?\n",
        "train_set[train_set.duplicated().values==True].shape"
      ],
      "execution_count": 7,
      "outputs": [
        {
          "output_type": "execute_result",
          "data": {
            "text/plain": [
              "(0, 14)"
            ]
          },
          "metadata": {},
          "execution_count": 7
        }
      ]
    },
    {
      "cell_type": "markdown",
      "metadata": {
        "id": "R3Hep7x_PcpH"
      },
      "source": [
        "No duplicated instances exist in this training set."
      ]
    },
    {
      "cell_type": "markdown",
      "metadata": {
        "id": "H8h6Ud-ysDcu"
      },
      "source": [
        "# *Check missing values*"
      ]
    },
    {
      "cell_type": "code",
      "metadata": {
        "colab": {
          "base_uri": "https://localhost:8080/",
          "height": 483
        },
        "id": "H0zLYKdIlEj4",
        "outputId": "eb59077e-f329-40ef-da3f-0e307610dfbd"
      },
      "source": [
        "# to check any missing values in each feature\n",
        "obs = train_set.isnull().sum().sort_values(ascending=False)\n",
        "percent = round(train_set.isnull().sum().sort_values(ascending=False)/len(train_set)*100, 2)\n",
        "pd.concat([obs, percent], axis=1, keys=['Number of Observations', 'Percent'])"
      ],
      "execution_count": 8,
      "outputs": [
        {
          "output_type": "execute_result",
          "data": {
            "text/html": [
              "<div>\n",
              "<style scoped>\n",
              "    .dataframe tbody tr th:only-of-type {\n",
              "        vertical-align: middle;\n",
              "    }\n",
              "\n",
              "    .dataframe tbody tr th {\n",
              "        vertical-align: top;\n",
              "    }\n",
              "\n",
              "    .dataframe thead th {\n",
              "        text-align: right;\n",
              "    }\n",
              "</style>\n",
              "<table border=\"1\" class=\"dataframe\">\n",
              "  <thead>\n",
              "    <tr style=\"text-align: right;\">\n",
              "      <th></th>\n",
              "      <th>Number of Observations</th>\n",
              "      <th>Percent</th>\n",
              "    </tr>\n",
              "  </thead>\n",
              "  <tbody>\n",
              "    <tr>\n",
              "      <th>target</th>\n",
              "      <td>0</td>\n",
              "      <td>0.0</td>\n",
              "    </tr>\n",
              "    <tr>\n",
              "      <th>thal</th>\n",
              "      <td>0</td>\n",
              "      <td>0.0</td>\n",
              "    </tr>\n",
              "    <tr>\n",
              "      <th>ca</th>\n",
              "      <td>0</td>\n",
              "      <td>0.0</td>\n",
              "    </tr>\n",
              "    <tr>\n",
              "      <th>slope</th>\n",
              "      <td>0</td>\n",
              "      <td>0.0</td>\n",
              "    </tr>\n",
              "    <tr>\n",
              "      <th>oldpeak</th>\n",
              "      <td>0</td>\n",
              "      <td>0.0</td>\n",
              "    </tr>\n",
              "    <tr>\n",
              "      <th>exang</th>\n",
              "      <td>0</td>\n",
              "      <td>0.0</td>\n",
              "    </tr>\n",
              "    <tr>\n",
              "      <th>thalach</th>\n",
              "      <td>0</td>\n",
              "      <td>0.0</td>\n",
              "    </tr>\n",
              "    <tr>\n",
              "      <th>restecg</th>\n",
              "      <td>0</td>\n",
              "      <td>0.0</td>\n",
              "    </tr>\n",
              "    <tr>\n",
              "      <th>fbs</th>\n",
              "      <td>0</td>\n",
              "      <td>0.0</td>\n",
              "    </tr>\n",
              "    <tr>\n",
              "      <th>chol</th>\n",
              "      <td>0</td>\n",
              "      <td>0.0</td>\n",
              "    </tr>\n",
              "    <tr>\n",
              "      <th>trestbps</th>\n",
              "      <td>0</td>\n",
              "      <td>0.0</td>\n",
              "    </tr>\n",
              "    <tr>\n",
              "      <th>cp</th>\n",
              "      <td>0</td>\n",
              "      <td>0.0</td>\n",
              "    </tr>\n",
              "    <tr>\n",
              "      <th>sex</th>\n",
              "      <td>0</td>\n",
              "      <td>0.0</td>\n",
              "    </tr>\n",
              "    <tr>\n",
              "      <th>age</th>\n",
              "      <td>0</td>\n",
              "      <td>0.0</td>\n",
              "    </tr>\n",
              "  </tbody>\n",
              "</table>\n",
              "</div>"
            ],
            "text/plain": [
              "          Number of Observations  Percent\n",
              "target                         0      0.0\n",
              "thal                           0      0.0\n",
              "ca                             0      0.0\n",
              "slope                          0      0.0\n",
              "oldpeak                        0      0.0\n",
              "exang                          0      0.0\n",
              "thalach                        0      0.0\n",
              "restecg                        0      0.0\n",
              "fbs                            0      0.0\n",
              "chol                           0      0.0\n",
              "trestbps                       0      0.0\n",
              "cp                             0      0.0\n",
              "sex                            0      0.0\n",
              "age                            0      0.0"
            ]
          },
          "metadata": {},
          "execution_count": 8
        }
      ]
    },
    {
      "cell_type": "markdown",
      "metadata": {
        "id": "PSR6pdKOP4uP"
      },
      "source": [
        "Luckily no missing values exist either."
      ]
    },
    {
      "cell_type": "markdown",
      "metadata": {
        "id": "-seBFYhauNN-"
      },
      "source": [
        "# *Check outliers*"
      ]
    },
    {
      "cell_type": "code",
      "metadata": {
        "id": "EQYjV1ktuNt6"
      },
      "source": [
        "from sklearn.ensemble import IsolationForest\n",
        "# identify outliers in the dataset\n",
        "iso = IsolationForest(contamination=0.005)\n",
        "yhat = iso.fit_predict(train_set)\n",
        "# select all rows that are not outliers\n",
        "mask = yhat != -1"
      ],
      "execution_count": 9,
      "outputs": []
    },
    {
      "cell_type": "code",
      "metadata": {
        "id": "Qeox1eXAueec"
      },
      "source": [
        "# to find the indecies of the the anomalies\n",
        "outliers_indices = list(item for item in np.where(mask==False)[0])  # must add [0]!"
      ],
      "execution_count": 10,
      "outputs": []
    },
    {
      "cell_type": "code",
      "metadata": {
        "colab": {
          "base_uri": "https://localhost:8080/"
        },
        "id": "bnC8zg5yueae",
        "outputId": "32536614-c85d-4c76-ffe8-e15e1aa9c0fa"
      },
      "source": [
        "# how many?\n",
        "len(outliers_indices)"
      ],
      "execution_count": 11,
      "outputs": [
        {
          "output_type": "execute_result",
          "data": {
            "text/plain": [
              "2"
            ]
          },
          "metadata": {},
          "execution_count": 11
        }
      ]
    },
    {
      "cell_type": "code",
      "metadata": {
        "colab": {
          "base_uri": "https://localhost:8080/"
        },
        "id": "-5HFWbXIueWr",
        "outputId": "315b1ceb-5fdf-448d-8795-3aacb4e2cd2f"
      },
      "source": [
        "print(\"Outliers Indices: {}\\n\".format(outliers_indices))"
      ],
      "execution_count": 12,
      "outputs": [
        {
          "output_type": "stream",
          "name": "stdout",
          "text": [
            "Outliers Indices: [79, 134]\n",
            "\n"
          ]
        }
      ]
    },
    {
      "cell_type": "markdown",
      "metadata": {
        "id": "8jF3YLePUK6z"
      },
      "source": [
        "I will remove them later."
      ]
    },
    {
      "cell_type": "markdown",
      "metadata": {
        "id": "gaXhySgXyxQI"
      },
      "source": [
        "#Visualize the data"
      ]
    },
    {
      "cell_type": "code",
      "metadata": {
        "colab": {
          "base_uri": "https://localhost:8080/",
          "height": 297
        },
        "id": "lwJUVCRWhOT4",
        "outputId": "e0fc378d-2cf0-4a27-e72c-3a6307fd258c"
      },
      "source": [
        "train_set.describe()"
      ],
      "execution_count": null,
      "outputs": [
        {
          "output_type": "execute_result",
          "data": {
            "text/html": [
              "<div>\n",
              "<style scoped>\n",
              "    .dataframe tbody tr th:only-of-type {\n",
              "        vertical-align: middle;\n",
              "    }\n",
              "\n",
              "    .dataframe tbody tr th {\n",
              "        vertical-align: top;\n",
              "    }\n",
              "\n",
              "    .dataframe thead th {\n",
              "        text-align: right;\n",
              "    }\n",
              "</style>\n",
              "<table border=\"1\" class=\"dataframe\">\n",
              "  <thead>\n",
              "    <tr style=\"text-align: right;\">\n",
              "      <th></th>\n",
              "      <th>age</th>\n",
              "      <th>trestbps</th>\n",
              "      <th>chol</th>\n",
              "      <th>thalach</th>\n",
              "      <th>oldpeak</th>\n",
              "    </tr>\n",
              "  </thead>\n",
              "  <tbody>\n",
              "    <tr>\n",
              "      <th>count</th>\n",
              "      <td>242.000000</td>\n",
              "      <td>242.000000</td>\n",
              "      <td>242.000000</td>\n",
              "      <td>242.000000</td>\n",
              "      <td>242.000000</td>\n",
              "    </tr>\n",
              "    <tr>\n",
              "      <th>mean</th>\n",
              "      <td>54.619835</td>\n",
              "      <td>131.764463</td>\n",
              "      <td>245.090909</td>\n",
              "      <td>149.066116</td>\n",
              "      <td>1.039256</td>\n",
              "    </tr>\n",
              "    <tr>\n",
              "      <th>std</th>\n",
              "      <td>8.840924</td>\n",
              "      <td>17.457901</td>\n",
              "      <td>52.484655</td>\n",
              "      <td>22.680255</td>\n",
              "      <td>1.171723</td>\n",
              "    </tr>\n",
              "    <tr>\n",
              "      <th>min</th>\n",
              "      <td>29.000000</td>\n",
              "      <td>94.000000</td>\n",
              "      <td>126.000000</td>\n",
              "      <td>71.000000</td>\n",
              "      <td>0.000000</td>\n",
              "    </tr>\n",
              "    <tr>\n",
              "      <th>25%</th>\n",
              "      <td>48.000000</td>\n",
              "      <td>120.000000</td>\n",
              "      <td>208.250000</td>\n",
              "      <td>132.000000</td>\n",
              "      <td>0.000000</td>\n",
              "    </tr>\n",
              "    <tr>\n",
              "      <th>50%</th>\n",
              "      <td>55.500000</td>\n",
              "      <td>130.000000</td>\n",
              "      <td>239.000000</td>\n",
              "      <td>152.500000</td>\n",
              "      <td>0.750000</td>\n",
              "    </tr>\n",
              "    <tr>\n",
              "      <th>75%</th>\n",
              "      <td>61.000000</td>\n",
              "      <td>140.000000</td>\n",
              "      <td>273.000000</td>\n",
              "      <td>165.000000</td>\n",
              "      <td>1.600000</td>\n",
              "    </tr>\n",
              "    <tr>\n",
              "      <th>max</th>\n",
              "      <td>76.000000</td>\n",
              "      <td>200.000000</td>\n",
              "      <td>564.000000</td>\n",
              "      <td>202.000000</td>\n",
              "      <td>6.200000</td>\n",
              "    </tr>\n",
              "  </tbody>\n",
              "</table>\n",
              "</div>"
            ],
            "text/plain": [
              "              age    trestbps        chol     thalach     oldpeak\n",
              "count  242.000000  242.000000  242.000000  242.000000  242.000000\n",
              "mean    54.619835  131.764463  245.090909  149.066116    1.039256\n",
              "std      8.840924   17.457901   52.484655   22.680255    1.171723\n",
              "min     29.000000   94.000000  126.000000   71.000000    0.000000\n",
              "25%     48.000000  120.000000  208.250000  132.000000    0.000000\n",
              "50%     55.500000  130.000000  239.000000  152.500000    0.750000\n",
              "75%     61.000000  140.000000  273.000000  165.000000    1.600000\n",
              "max     76.000000  200.000000  564.000000  202.000000    6.200000"
            ]
          },
          "metadata": {},
          "execution_count": 12
        }
      ]
    },
    {
      "cell_type": "markdown",
      "metadata": {
        "id": "osi6vdtXNTTV"
      },
      "source": [
        "# *Plot histograms and scatter plots*"
      ]
    },
    {
      "cell_type": "code",
      "metadata": {
        "colab": {
          "base_uri": "https://localhost:8080/",
          "height": 502
        },
        "id": "wh8-Hjo2AF9S",
        "outputId": "83f057ea-cea9-444c-ecc8-9f0d259a9ce7"
      },
      "source": [
        "from pandas.plotting import scatter_matrix\n",
        "\n",
        "numeric_list = ['age','trestbps','chol','thalach','oldpeak']\n",
        "\n",
        "# histograms and scatter plots.\n",
        "scatter_matrix(train_set[numeric_list], figsize=(8,8))\n",
        "plt.show()"
      ],
      "execution_count": null,
      "outputs": [
        {
          "output_type": "display_data",
          "data": {
            "image/png": "[encoded data removed]",
            "text/plain": [
              "<Figure size 576x576 with 25 Axes>"
            ]
          },
          "metadata": {
            "needs_background": "light"
          }
        }
      ]
    },
    {
      "cell_type": "markdown",
      "metadata": {
        "id": "0b5IXM7AAsXP"
      },
      "source": [
        "It seems that age has a relationship with thalach and oldpeak respectively.\n",
        "\n",
        "The 5 features are not normally distributed. I will do standard scaler transformation for them later."
      ]
    },
    {
      "cell_type": "markdown",
      "metadata": {
        "id": "z9NHYgij1PyO"
      },
      "source": [
        "# *Any numerical features pairwise correlated?*"
      ]
    },
    {
      "cell_type": "code",
      "metadata": {
        "colab": {
          "base_uri": "https://localhost:8080/",
          "height": 500
        },
        "id": "if_5_hDuu2E8",
        "outputId": "8af5e68a-c85b-4a6e-c911-746202ec1206"
      },
      "source": [
        "import seaborn as sns\n",
        "\n",
        "#sns.set_theme(style=\"white\")\n",
        "numeric_list = ['age','trestbps','chol','thalach','oldpeak']\n",
        "# to compute the correlation matrix\n",
        "corr = (train_set[numeric_list]).corr()\n",
        "\n",
        "# to generate a mask for the upper triangle\n",
        "mask = np.triu(np.ones_like(corr, dtype=bool))\n",
        "\n",
        "# to set up the matplotlib figure\n",
        "f, ax = plt.subplots(figsize=(10, 8))\n",
        "\n",
        "# to generate a custom diverging colormap\n",
        "cmap = sns.diverging_palette(240, 10, as_cmap=True)\n",
        "\n",
        "# to draw the heatmap with the mask and correct aspect ratio\n",
        "sns.heatmap(corr, mask=mask, cmap=cmap, square=True, linewidths=.5, cbar_kws={\"shrink\": .5})"
      ],
      "execution_count": null,
      "outputs": [
        {
          "output_type": "execute_result",
          "data": {
            "text/plain": [
              "<matplotlib.axes._subplots.AxesSubplot at 0x7f42577e6650>"
            ]
          },
          "metadata": {},
          "execution_count": 14
        },
        {
          "output_type": "display_data",
          "data": {
            "image/png": "[encoded data removed]",
            "text/plain": [
              "<Figure size 720x576 with 2 Axes>"
            ]
          },
          "metadata": {
            "needs_background": "light"
          }
        }
      ]
    },
    {
      "cell_type": "markdown",
      "metadata": {
        "id": "o3GBOm1L4NKT"
      },
      "source": [
        "The heatmap shows the numerical features are not strongly correlated pairwise! Next I check if more than 3 (inclusive) of the numerical features are correlated."
      ]
    },
    {
      "cell_type": "markdown",
      "metadata": {
        "id": "UE5kcisX-sTK"
      },
      "source": [
        "# *Check Multi-Collinearity*"
      ]
    },
    {
      "cell_type": "code",
      "metadata": {
        "id": "PuERU-05-rOw"
      },
      "source": [
        "from statsmodels.stats.outliers_influence import variance_inflation_factor\n",
        "from statsmodels.tools.tools import add_constant\n",
        "from statsmodels.regression.linear_model import OLS\n",
        "\n",
        "def variance_inflation_factors(exog_df):\n",
        "    '''\n",
        "    Parameters\n",
        "    ----------\n",
        "    exog_df : dataframe, (nobs, k_vars)\n",
        "        design matrix with all explanatory variables, as for example used in\n",
        "        regression.\n",
        "\n",
        "    Returns\n",
        "    -------\n",
        "    vif : Series\n",
        "        variance inflation factors\n",
        "    '''\n",
        "    exog_df = add_constant(exog_df)\n",
        "    vifs = pd.Series(\n",
        "        [1 / (1. - OLS(exog_df[col].values, \n",
        "                       exog_df.loc[:, exog_df.columns != col].values).fit().rsquared) \n",
        "         for col in exog_df],\n",
        "        index=exog_df.columns,\n",
        "        name='VIF'\n",
        "    )\n",
        "    return vifs"
      ],
      "execution_count": null,
      "outputs": []
    },
    {
      "cell_type": "code",
      "metadata": {
        "colab": {
          "base_uri": "https://localhost:8080/"
        },
        "id": "UqLHjzjB-zDw",
        "outputId": "9f53003e-278c-4891-bbe2-62632704f636"
      },
      "source": [
        "# to calculate VIF\n",
        "variance_inflation_factors(train_set[numeric_list])"
      ],
      "execution_count": null,
      "outputs": [
        {
          "output_type": "execute_result",
          "data": {
            "text/plain": [
              "const       173.549750\n",
              "age           1.408356\n",
              "trestbps      1.224060\n",
              "chol          1.056703\n",
              "thalach       1.391205\n",
              "oldpeak       1.243849\n",
              "Name: VIF, dtype: float64"
            ]
          },
          "metadata": {},
          "execution_count": 16
        }
      ]
    },
    {
      "cell_type": "markdown",
      "metadata": {
        "id": "rJvTYwQS--Zk"
      },
      "source": [
        "Good! The VIF table shows no multi-correlation exists."
      ]
    },
    {
      "cell_type": "markdown",
      "metadata": {
        "id": "p6aEaZkv_ED-"
      },
      "source": [
        "# *Any categorical features independent from one another?*"
      ]
    },
    {
      "cell_type": "code",
      "metadata": {
        "colab": {
          "base_uri": "https://localhost:8080/",
          "height": 297
        },
        "id": "cSzAYye_u2BY",
        "outputId": "ca86ac2a-ccb4-46c6-ca8d-4f5b86fecb9c"
      },
      "source": [
        "from scipy.stats import chi2_contingency\n",
        "\n",
        "# to define a function that calculate p-value from Chi Square test for a pair of categorical variables\n",
        "def chisq_of_df_cols(df, col1, col2):\n",
        "  chi2, p, dof, expected = chi2_contingency(pd.crosstab(df[col1], df[col2]))\n",
        "  return(p)\n",
        "\n",
        "# to build a matrix whose cells store p-values\n",
        "def ChiSqMatrix(df, L):\n",
        "  Len = len(L)\n",
        "  Size = Len*Len\n",
        "  arr = np.zeros(Size).reshape((Len,Len))\n",
        "  for i in np.arange(Len):\n",
        "    for j in np.arange(Len):\n",
        "      #arr[i,j] = np.round(chisq_of_df_cols(df, L[i], L[j]), 10)\n",
        "      arr[i,j] = chisq_of_df_cols(df, L[i], L[j])\n",
        "  return arr\n",
        "\n",
        "cat_list = ['sex', 'cp', 'fbs', 'restecg', 'exang', 'slope', 'ca', 'thal'] # exclude 'target'\n",
        "independenceMatrix = pd.DataFrame(ChiSqMatrix(train_set, cat_list), columns=cat_list)\n",
        "independenceMatrix.index = cat_list\n",
        "independenceMatrix"
      ],
      "execution_count": null,
      "outputs": [
        {
          "output_type": "execute_result",
          "data": {
            "text/html": [
              "<div>\n",
              "<style scoped>\n",
              "    .dataframe tbody tr th:only-of-type {\n",
              "        vertical-align: middle;\n",
              "    }\n",
              "\n",
              "    .dataframe tbody tr th {\n",
              "        vertical-align: top;\n",
              "    }\n",
              "\n",
              "    .dataframe thead th {\n",
              "        text-align: right;\n",
              "    }\n",
              "</style>\n",
              "<table border=\"1\" class=\"dataframe\">\n",
              "  <thead>\n",
              "    <tr style=\"text-align: right;\">\n",
              "      <th></th>\n",
              "      <th>sex</th>\n",
              "      <th>cp</th>\n",
              "      <th>fbs</th>\n",
              "      <th>restecg</th>\n",
              "      <th>exang</th>\n",
              "      <th>slope</th>\n",
              "      <th>ca</th>\n",
              "      <th>thal</th>\n",
              "    </tr>\n",
              "  </thead>\n",
              "  <tbody>\n",
              "    <tr>\n",
              "      <th>sex</th>\n",
              "      <td>1.441865e-53</td>\n",
              "      <td>2.201554e-01</td>\n",
              "      <td>8.028179e-01</td>\n",
              "      <td>3.187797e-02</td>\n",
              "      <td>3.614615e-02</td>\n",
              "      <td>6.041899e-01</td>\n",
              "      <td>4.065581e-01</td>\n",
              "      <td>4.282185e-08</td>\n",
              "    </tr>\n",
              "    <tr>\n",
              "      <th>cp</th>\n",
              "      <td>2.201554e-01</td>\n",
              "      <td>1.775530e-150</td>\n",
              "      <td>2.635195e-01</td>\n",
              "      <td>1.676193e-01</td>\n",
              "      <td>2.162924e-12</td>\n",
              "      <td>5.683182e-03</td>\n",
              "      <td>7.989541e-03</td>\n",
              "      <td>1.786217e-05</td>\n",
              "    </tr>\n",
              "    <tr>\n",
              "      <th>fbs</th>\n",
              "      <td>8.028179e-01</td>\n",
              "      <td>2.635195e-01</td>\n",
              "      <td>8.063086e-53</td>\n",
              "      <td>6.111162e-01</td>\n",
              "      <td>3.666971e-01</td>\n",
              "      <td>3.869998e-02</td>\n",
              "      <td>5.140144e-01</td>\n",
              "      <td>2.013443e-01</td>\n",
              "    </tr>\n",
              "    <tr>\n",
              "      <th>restecg</th>\n",
              "      <td>3.187797e-02</td>\n",
              "      <td>1.676193e-01</td>\n",
              "      <td>6.111162e-01</td>\n",
              "      <td>1.933489e-103</td>\n",
              "      <td>1.419930e-01</td>\n",
              "      <td>2.991004e-02</td>\n",
              "      <td>5.961838e-01</td>\n",
              "      <td>9.257460e-01</td>\n",
              "    </tr>\n",
              "    <tr>\n",
              "      <th>exang</th>\n",
              "      <td>3.614615e-02</td>\n",
              "      <td>2.162924e-12</td>\n",
              "      <td>3.666971e-01</td>\n",
              "      <td>1.419930e-01</td>\n",
              "      <td>1.307327e-53</td>\n",
              "      <td>2.747795e-05</td>\n",
              "      <td>1.188730e-01</td>\n",
              "      <td>4.092060e-07</td>\n",
              "    </tr>\n",
              "    <tr>\n",
              "      <th>slope</th>\n",
              "      <td>6.041899e-01</td>\n",
              "      <td>5.683182e-03</td>\n",
              "      <td>3.869998e-02</td>\n",
              "      <td>2.991004e-02</td>\n",
              "      <td>2.747795e-05</td>\n",
              "      <td>1.933489e-103</td>\n",
              "      <td>1.411415e-01</td>\n",
              "      <td>1.194610e-04</td>\n",
              "    </tr>\n",
              "    <tr>\n",
              "      <th>ca</th>\n",
              "      <td>4.065581e-01</td>\n",
              "      <td>7.989541e-03</td>\n",
              "      <td>5.140144e-01</td>\n",
              "      <td>5.961838e-01</td>\n",
              "      <td>1.188730e-01</td>\n",
              "      <td>1.411415e-01</td>\n",
              "      <td>7.929968e-196</td>\n",
              "      <td>1.329874e-01</td>\n",
              "    </tr>\n",
              "    <tr>\n",
              "      <th>thal</th>\n",
              "      <td>4.282185e-08</td>\n",
              "      <td>1.786217e-05</td>\n",
              "      <td>2.013443e-01</td>\n",
              "      <td>9.257460e-01</td>\n",
              "      <td>4.092060e-07</td>\n",
              "      <td>1.194610e-04</td>\n",
              "      <td>1.329874e-01</td>\n",
              "      <td>1.775530e-150</td>\n",
              "    </tr>\n",
              "  </tbody>\n",
              "</table>\n",
              "</div>"
            ],
            "text/plain": [
              "                  sex             cp  ...             ca           thal\n",
              "sex      1.441865e-53   2.201554e-01  ...   4.065581e-01   4.282185e-08\n",
              "cp       2.201554e-01  1.775530e-150  ...   7.989541e-03   1.786217e-05\n",
              "fbs      8.028179e-01   2.635195e-01  ...   5.140144e-01   2.013443e-01\n",
              "restecg  3.187797e-02   1.676193e-01  ...   5.961838e-01   9.257460e-01\n",
              "exang    3.614615e-02   2.162924e-12  ...   1.188730e-01   4.092060e-07\n",
              "slope    6.041899e-01   5.683182e-03  ...   1.411415e-01   1.194610e-04\n",
              "ca       4.065581e-01   7.989541e-03  ...  7.929968e-196   1.329874e-01\n",
              "thal     4.282185e-08   1.786217e-05  ...   1.329874e-01  1.775530e-150\n",
              "\n",
              "[8 rows x 8 columns]"
            ]
          },
          "metadata": {},
          "execution_count": 17
        }
      ]
    },
    {
      "cell_type": "code",
      "metadata": {
        "colab": {
          "base_uri": "https://localhost:8080/",
          "height": 500
        },
        "id": "haWrzWQBkvOX",
        "outputId": "1008b35d-777d-4d15-a3e5-b4ed643263e1"
      },
      "source": [
        "# to generate a mask for the upper triangle\n",
        "mask = np.triu(np.ones_like(independenceMatrix, dtype=bool))\n",
        "\n",
        "# to set up the matplotlib figure\n",
        "f, ax = plt.subplots(figsize=(10, 8))\n",
        "\n",
        "# to generate a custom diverging colormap\n",
        "cmap = sns.cubehelix_palette(20, start=2, rot=0, dark=0, light=1, reverse=True)\n",
        "\n",
        "# to draw the heatmap with the mask and correct aspect ratio\n",
        "sns.heatmap(independenceMatrix, mask=mask, cmap=cmap, square=True, linewidths=.5, cbar_kws={\"shrink\": .5})"
      ],
      "execution_count": null,
      "outputs": [
        {
          "output_type": "execute_result",
          "data": {
            "text/plain": [
              "<matplotlib.axes._subplots.AxesSubplot at 0x7f4257abfd50>"
            ]
          },
          "metadata": {},
          "execution_count": 18
        },
        {
          "output_type": "display_data",
          "data": {
            "image/png": "[encoded data removed]",
            "text/plain": [
              "<Figure size 720x576 with 2 Axes>"
            ]
          },
          "metadata": {
            "needs_background": "light"
          }
        }
      ]
    },
    {
      "cell_type": "markdown",
      "metadata": {
        "id": "9GqqnulE3rVB"
      },
      "source": [
        "The significant level is 0.05, the 12 dark squares in the above heatmap indicate 12 pairs of categorical features are not independent from each other. However, they don't possess the nature of numeric features, thus I cannot combine them pairwise or drop any of them. Consequently, I keep them in the training data."
      ]
    },
    {
      "cell_type": "markdown",
      "metadata": {
        "id": "ImX0nRDIB3Ta"
      },
      "source": [
        "#Prepare the data"
      ]
    },
    {
      "cell_type": "markdown",
      "metadata": {
        "id": "de2lP_N8C4qq"
      },
      "source": [
        "# *Data cleaning* "
      ]
    },
    {
      "cell_type": "markdown",
      "metadata": {
        "id": "QObqAL8ENtmh"
      },
      "source": [
        "# *Remove outliers*"
      ]
    },
    {
      "cell_type": "markdown",
      "metadata": {
        "id": "bwarfrzSB6Lm"
      },
      "source": [
        "There are some outliers in the data, so I need to remove them."
      ]
    },
    {
      "cell_type": "code",
      "metadata": {
        "colab": {
          "base_uri": "https://localhost:8080/"
        },
        "id": "kF09CHNI2AC-",
        "outputId": "806ee736-c34e-4551-f7f4-b3c10a0ae36a"
      },
      "source": [
        "# to exclude the outliers\n",
        "train_Outl_Excl = train_set.copy()\n",
        "\n",
        "train_Outl_Excl = train_Outl_Excl.drop(outliers_indices)\n",
        "train_Outl_Excl.shape"
      ],
      "execution_count": null,
      "outputs": [
        {
          "output_type": "execute_result",
          "data": {
            "text/plain": [
              "(240, 14)"
            ]
          },
          "metadata": {},
          "execution_count": 19
        }
      ]
    },
    {
      "cell_type": "markdown",
      "metadata": {
        "id": "qd7cJWLpT33f"
      },
      "source": [
        "train_Outl_Excl is the training data that doesn't contain any outliers!"
      ]
    },
    {
      "cell_type": "markdown",
      "metadata": {
        "id": "N9blmVn-NFT_"
      },
      "source": [
        "# *Split training data into two parts: a smaller training data and a validation data*"
      ]
    },
    {
      "cell_type": "code",
      "metadata": {
        "colab": {
          "base_uri": "https://localhost:8080/",
          "height": 204
        },
        "id": "AQhnL0xdNXcp",
        "outputId": "7d6744bd-ffe2-4eaf-b4b5-89aecc11d829"
      },
      "source": [
        "train_Outl_Excl.head()"
      ],
      "execution_count": null,
      "outputs": [
        {
          "output_type": "execute_result",
          "data": {
            "text/html": [
              "<div>\n",
              "<style scoped>\n",
              "    .dataframe tbody tr th:only-of-type {\n",
              "        vertical-align: middle;\n",
              "    }\n",
              "\n",
              "    .dataframe tbody tr th {\n",
              "        vertical-align: top;\n",
              "    }\n",
              "\n",
              "    .dataframe thead th {\n",
              "        text-align: right;\n",
              "    }\n",
              "</style>\n",
              "<table border=\"1\" class=\"dataframe\">\n",
              "  <thead>\n",
              "    <tr style=\"text-align: right;\">\n",
              "      <th></th>\n",
              "      <th>age</th>\n",
              "      <th>sex</th>\n",
              "      <th>cp</th>\n",
              "      <th>trestbps</th>\n",
              "      <th>chol</th>\n",
              "      <th>fbs</th>\n",
              "      <th>restecg</th>\n",
              "      <th>thalach</th>\n",
              "      <th>exang</th>\n",
              "      <th>oldpeak</th>\n",
              "      <th>slope</th>\n",
              "      <th>ca</th>\n",
              "      <th>thal</th>\n",
              "      <th>target</th>\n",
              "    </tr>\n",
              "  </thead>\n",
              "  <tbody>\n",
              "    <tr>\n",
              "      <th>184</th>\n",
              "      <td>50</td>\n",
              "      <td>1</td>\n",
              "      <td>0</td>\n",
              "      <td>150</td>\n",
              "      <td>243</td>\n",
              "      <td>0</td>\n",
              "      <td>0</td>\n",
              "      <td>128</td>\n",
              "      <td>0</td>\n",
              "      <td>2.6</td>\n",
              "      <td>1</td>\n",
              "      <td>0</td>\n",
              "      <td>3</td>\n",
              "      <td>0</td>\n",
              "    </tr>\n",
              "    <tr>\n",
              "      <th>100</th>\n",
              "      <td>42</td>\n",
              "      <td>1</td>\n",
              "      <td>3</td>\n",
              "      <td>148</td>\n",
              "      <td>244</td>\n",
              "      <td>0</td>\n",
              "      <td>0</td>\n",
              "      <td>178</td>\n",
              "      <td>0</td>\n",
              "      <td>0.8</td>\n",
              "      <td>2</td>\n",
              "      <td>2</td>\n",
              "      <td>2</td>\n",
              "      <td>1</td>\n",
              "    </tr>\n",
              "    <tr>\n",
              "      <th>43</th>\n",
              "      <td>53</td>\n",
              "      <td>0</td>\n",
              "      <td>0</td>\n",
              "      <td>130</td>\n",
              "      <td>264</td>\n",
              "      <td>0</td>\n",
              "      <td>0</td>\n",
              "      <td>143</td>\n",
              "      <td>0</td>\n",
              "      <td>0.4</td>\n",
              "      <td>1</td>\n",
              "      <td>0</td>\n",
              "      <td>2</td>\n",
              "      <td>1</td>\n",
              "    </tr>\n",
              "    <tr>\n",
              "      <th>128</th>\n",
              "      <td>52</td>\n",
              "      <td>0</td>\n",
              "      <td>2</td>\n",
              "      <td>136</td>\n",
              "      <td>196</td>\n",
              "      <td>0</td>\n",
              "      <td>0</td>\n",
              "      <td>169</td>\n",
              "      <td>0</td>\n",
              "      <td>0.1</td>\n",
              "      <td>1</td>\n",
              "      <td>0</td>\n",
              "      <td>2</td>\n",
              "      <td>1</td>\n",
              "    </tr>\n",
              "    <tr>\n",
              "      <th>249</th>\n",
              "      <td>69</td>\n",
              "      <td>1</td>\n",
              "      <td>2</td>\n",
              "      <td>140</td>\n",
              "      <td>254</td>\n",
              "      <td>0</td>\n",
              "      <td>0</td>\n",
              "      <td>146</td>\n",
              "      <td>0</td>\n",
              "      <td>2.0</td>\n",
              "      <td>1</td>\n",
              "      <td>3</td>\n",
              "      <td>3</td>\n",
              "      <td>0</td>\n",
              "    </tr>\n",
              "  </tbody>\n",
              "</table>\n",
              "</div>"
            ],
            "text/plain": [
              "     age sex cp  trestbps  chol fbs  ... exang  oldpeak slope  ca thal target\n",
              "184   50   1  0       150   243   0  ...     0      2.6     1   0    3      0\n",
              "100   42   1  3       148   244   0  ...     0      0.8     2   2    2      1\n",
              "43    53   0  0       130   264   0  ...     0      0.4     1   0    2      1\n",
              "128   52   0  2       136   196   0  ...     0      0.1     1   0    2      1\n",
              "249   69   1  2       140   254   0  ...     0      2.0     1   3    3      0\n",
              "\n",
              "[5 rows x 14 columns]"
            ]
          },
          "metadata": {},
          "execution_count": 20
        }
      ]
    },
    {
      "cell_type": "markdown",
      "metadata": {
        "id": "CtLMbbSxWmWa"
      },
      "source": [
        "I need a validation data for hyperparameter tuning."
      ]
    },
    {
      "cell_type": "code",
      "metadata": {
        "colab": {
          "base_uri": "https://localhost:8080/"
        },
        "id": "2p57Qkb3NCx8",
        "outputId": "c11e1f60-f881-4144-bada-632bbc1d3df4"
      },
      "source": [
        "split = StratifiedShuffleSplit(n_splits=1, test_size=0.2, random_state=123)\n",
        "for train_index, val_index in split.split(train_Outl_Excl, train_Outl_Excl['target']):\n",
        "  strat_train_set = train_Outl_Excl.iloc[train_index]\n",
        "  strat_val_set = train_Outl_Excl.iloc[val_index]\n",
        "\n",
        "print(strat_train_set.shape) \n",
        "print(strat_val_set.shape)"
      ],
      "execution_count": null,
      "outputs": [
        {
          "output_type": "stream",
          "name": "stdout",
          "text": [
            "(192, 14)\n",
            "(48, 14)\n"
          ]
        }
      ]
    },
    {
      "cell_type": "code",
      "metadata": {
        "colab": {
          "base_uri": "https://localhost:8080/"
        },
        "id": "pw0XxlXvFBtO",
        "outputId": "2e9774af-66d0-4225-fe78-d3821f6cd32b"
      },
      "source": [
        "features = strat_train_set.drop(\"target\", axis=1)\n",
        "label = strat_train_set[\"target\"].copy()\n",
        "print(features.shape, label.shape)"
      ],
      "execution_count": null,
      "outputs": [
        {
          "output_type": "stream",
          "name": "stdout",
          "text": [
            "(192, 13) (192,)\n"
          ]
        }
      ]
    },
    {
      "cell_type": "markdown",
      "metadata": {
        "id": "ZACgh6K7JQbt"
      },
      "source": [
        "# *Feature engineering and feature scaling*"
      ]
    },
    {
      "cell_type": "code",
      "metadata": {
        "id": "9n0jz0dNE4iB"
      },
      "source": [
        "from sklearn.compose import ColumnTransformer\n",
        "from sklearn.pipeline import Pipeline\n",
        "from sklearn.preprocessing import StandardScaler, OneHotEncoder\n",
        "\n",
        "\n",
        "num_attr =['age', 'trestbps', 'chol', 'thalach', 'oldpeak']\n",
        "cat_attr = ['sex', 'cp', 'fbs', 'restecg', 'exang', 'slope', 'ca', 'thal']\n",
        "\n",
        "full_pipeline = ColumnTransformer([\n",
        "                                   ('num', StandardScaler(), num_attr),\n",
        "                                   ('cat', OneHotEncoder(), cat_attr),\n",
        "])\n",
        "\n",
        "training_prepared = full_pipeline.fit_transform(features)"
      ],
      "execution_count": null,
      "outputs": []
    },
    {
      "cell_type": "markdown",
      "metadata": {
        "id": "RfQ3L0ShTxHS"
      },
      "source": [
        "# *Feature Names Extraction*"
      ]
    },
    {
      "cell_type": "code",
      "metadata": {
        "id": "Ui6OaBPJTwbb"
      },
      "source": [
        "from sklearn.preprocessing import OneHotEncoder\n",
        "\n",
        "encoder = OneHotEncoder()\n",
        "train_X_encoded = encoder.fit_transform(features[cat_attr])  "
      ],
      "execution_count": null,
      "outputs": []
    },
    {
      "cell_type": "code",
      "metadata": {
        "colab": {
          "base_uri": "https://localhost:8080/"
        },
        "id": "udKsdAYfUGyf",
        "outputId": "53d3eb55-93a3-40da-9324-29b7cd333879"
      },
      "source": [
        "# the new feature names \n",
        "encoder.get_feature_names()"
      ],
      "execution_count": null,
      "outputs": [
        {
          "output_type": "execute_result",
          "data": {
            "text/plain": [
              "array(['x0_0', 'x0_1', 'x1_0', 'x1_1', 'x1_2', 'x1_3', 'x2_0', 'x2_1',\n",
              "       'x3_0', 'x3_1', 'x3_2', 'x4_0', 'x4_1', 'x5_0', 'x5_1', 'x5_2',\n",
              "       'x6_0', 'x6_1', 'x6_2', 'x6_3', 'x6_4', 'x7_0', 'x7_1', 'x7_2',\n",
              "       'x7_3'], dtype=object)"
            ]
          },
          "metadata": {},
          "execution_count": 25
        }
      ]
    },
    {
      "cell_type": "markdown",
      "metadata": {
        "id": "dZjJMp4IUXT7"
      },
      "source": [
        "New names are given. Must map them back to their original names when checking feature importance."
      ]
    },
    {
      "cell_type": "code",
      "metadata": {
        "colab": {
          "base_uri": "https://localhost:8080/"
        },
        "id": "rLOSbAiWUYk9",
        "outputId": "ec6b7ca9-8453-4f85-f261-593df2d67b84"
      },
      "source": [
        "len(encoder.get_feature_names())"
      ],
      "execution_count": null,
      "outputs": [
        {
          "output_type": "execute_result",
          "data": {
            "text/plain": [
              "25"
            ]
          },
          "metadata": {},
          "execution_count": 26
        }
      ]
    },
    {
      "cell_type": "markdown",
      "metadata": {
        "id": "CCf7Zuq6UjZm"
      },
      "source": [
        "# *Feature Importance Function*"
      ]
    },
    {
      "cell_type": "code",
      "metadata": {
        "id": "q5NFrw7zUlY_"
      },
      "source": [
        "# to print the feature importance list of the best estimator\n",
        "from sklearn.inspection import permutation_importance\n",
        "\n",
        "def print_features_importance(model_name, best_estimator, X, y):\n",
        "  feature_names = num_attr + list(encoder.get_feature_names())  \n",
        "    \n",
        "  importance=[]\n",
        "  best_estimator.fit(X, y)\n",
        "  # perform permutation importance\n",
        "  results = permutation_importance(best_estimator, X, y, scoring='f1_micro')   # scoring='roc_auc'\n",
        "  # get importance\n",
        "  importance = results.importances_mean\n",
        "    \n",
        "  for i,v in tqdm(enumerate(importance)):\n",
        "    if v > 0.0005:   # this threshold can be adjusted!\n",
        "      print('Feature: %-12s, Score: %.5f' % (feature_names[i],v))\n",
        "    \n",
        "  # plot feature importance\n",
        "  plt.figure(figsize=(24, 6))\n",
        "  plt.bar([x for x in range(len(importance))], importance)\n",
        "  # Add some text for labels, title and custom x-axis tick labels, etc.\n",
        "  width = 0.5  # the width of the bars\n",
        "  plt.ylabel('Feature Importance')\n",
        "  plt.title(model_name)\n",
        "  plt.xticks(ticks=np.arange(len(feature_names)),labels=feature_names,rotation=90)\n",
        "  plt.show()"
      ],
      "execution_count": null,
      "outputs": []
    },
    {
      "cell_type": "markdown",
      "metadata": {
        "id": "vVqYJNReQsN3"
      },
      "source": [
        "I would like to try three methodologies: logistic regression, random forest, and support vector machine."
      ]
    },
    {
      "cell_type": "code",
      "metadata": {
        "id": "icfFMDR4KVvl"
      },
      "source": [
        "from sklearn.linear_model import LogisticRegression\n",
        "from sklearn.ensemble import RandomForestClassifier\n",
        "from sklearn.svm import SVC\n",
        "\n",
        "from sklearn.metrics import f1_score\n",
        "from sklearn.model_selection import cross_val_score\n",
        "\n",
        "from tqdm import tqdm, tqdm_gui"
      ],
      "execution_count": null,
      "outputs": []
    },
    {
      "cell_type": "markdown",
      "metadata": {
        "id": "aV6uEHTlREOz"
      },
      "source": [
        "# *Important features*"
      ]
    },
    {
      "cell_type": "code",
      "metadata": {
        "colab": {
          "base_uri": "https://localhost:8080/",
          "height": 668
        },
        "id": "7CRo3Z31Uzj_",
        "outputId": "636725fe-4c9b-416e-c947-50018b49c8cb"
      },
      "source": [
        "# to calculate feature importance\n",
        "print_features_importance('Random Forest Classifier', RandomForestClassifier(random_state=42), training_prepared, label)"
      ],
      "execution_count": null,
      "outputs": [
        {
          "output_type": "stream",
          "name": "stderr",
          "text": [
            "30it [00:00, 59465.56it/s]\n"
          ]
        },
        {
          "output_type": "stream",
          "name": "stdout",
          "text": [
            "Feature: age         , Score: 0.00417\n",
            "Feature: trestbps    , Score: 0.01250\n",
            "Feature: chol        , Score: 0.00625\n",
            "Feature: thalach     , Score: 0.02396\n",
            "Feature: oldpeak     , Score: 0.02604\n",
            "Feature: x0_0        , Score: 0.00833\n",
            "Feature: x0_1        , Score: 0.00937\n",
            "Feature: x1_0        , Score: 0.03021\n",
            "Feature: x1_1        , Score: 0.00104\n",
            "Feature: x4_0        , Score: 0.00313\n",
            "Feature: x5_1        , Score: 0.00208\n",
            "Feature: x5_2        , Score: 0.00208\n",
            "Feature: x6_0        , Score: 0.00833\n",
            "Feature: x7_2        , Score: 0.01667\n",
            "Feature: x7_3        , Score: 0.00104\n"
          ]
        },
        {
          "output_type": "display_data",
          "data": {
            "image/png": "[encoded data removed]",
            "text/plain": [
              "<Figure size 1728x432 with 1 Axes>"
            ]
          },
          "metadata": {
            "needs_background": "light"
          }
        }
      ]
    },
    {
      "cell_type": "markdown",
      "metadata": {
        "id": "uEbpOFa3RUSU"
      },
      "source": [
        "Two features are unimportant, I will remove them and reconstruct the training data."
      ]
    },
    {
      "cell_type": "markdown",
      "metadata": {
        "id": "67Gy9tqDXbrx"
      },
      "source": [
        "# *Remove the two features -- 'fbs' and 'restecg' after feature engineering step*"
      ]
    },
    {
      "cell_type": "code",
      "metadata": {
        "id": "Auh1KrYgW-2L"
      },
      "source": [
        "# New pipeline with shorter list of features!\n",
        "num_attr =['age','trestbps','chol','thalach','oldpeak']\n",
        "cat_attr = ['sex', 'cp', 'exang', 'slope', 'ca', 'thal']\n",
        "\n",
        "full_pipeline = ColumnTransformer([\n",
        "                                   ('num', StandardScaler(), num_attr),\n",
        "                                   ('cat', OneHotEncoder(), cat_attr),\n",
        "])"
      ],
      "execution_count": null,
      "outputs": []
    },
    {
      "cell_type": "markdown",
      "metadata": {
        "id": "UOPk43Apnp1r"
      },
      "source": [
        "# *New training data*"
      ]
    },
    {
      "cell_type": "code",
      "metadata": {
        "id": "fU_CxDjTnouL"
      },
      "source": [
        "training_prepared = full_pipeline.fit_transform(features)"
      ],
      "execution_count": null,
      "outputs": []
    },
    {
      "cell_type": "code",
      "metadata": {
        "colab": {
          "base_uri": "https://localhost:8080/"
        },
        "id": "1tZOAhyioAL7",
        "outputId": "62afca99-7a3c-4b8a-ac9e-15fae0b1160b"
      },
      "source": [
        "training_prepared.shape"
      ],
      "execution_count": null,
      "outputs": [
        {
          "output_type": "execute_result",
          "data": {
            "text/plain": [
              "(192, 25)"
            ]
          },
          "metadata": {},
          "execution_count": 32
        }
      ]
    },
    {
      "cell_type": "markdown",
      "metadata": {
        "id": "rE9mcn-Lnupj"
      },
      "source": [
        "# *Validation data transformation*"
      ]
    },
    {
      "cell_type": "code",
      "metadata": {
        "colab": {
          "base_uri": "https://localhost:8080/"
        },
        "id": "ORU4RKS5nYDj",
        "outputId": "f784e55e-9d11-4c22-f9a0-e94edfffaaeb"
      },
      "source": [
        "strat_val_set.info()"
      ],
      "execution_count": null,
      "outputs": [
        {
          "output_type": "stream",
          "name": "stdout",
          "text": [
            "<class 'pandas.core.frame.DataFrame'>\n",
            "Int64Index: 48 entries, 30 to 39\n",
            "Data columns (total 14 columns):\n",
            " #   Column    Non-Null Count  Dtype   \n",
            "---  ------    --------------  -----   \n",
            " 0   age       48 non-null     int64   \n",
            " 1   sex       48 non-null     category\n",
            " 2   cp        48 non-null     category\n",
            " 3   trestbps  48 non-null     int64   \n",
            " 4   chol      48 non-null     int64   \n",
            " 5   fbs       48 non-null     category\n",
            " 6   restecg   48 non-null     category\n",
            " 7   thalach   48 non-null     int64   \n",
            " 8   exang     48 non-null     category\n",
            " 9   oldpeak   48 non-null     float64 \n",
            " 10  slope     48 non-null     category\n",
            " 11  ca        48 non-null     category\n",
            " 12  thal      48 non-null     category\n",
            " 13  target    48 non-null     category\n",
            "dtypes: category(9), float64(1), int64(4)\n",
            "memory usage: 3.8 KB\n"
          ]
        }
      ]
    },
    {
      "cell_type": "code",
      "metadata": {
        "colab": {
          "base_uri": "https://localhost:8080/"
        },
        "id": "d8DYj6RKn1er",
        "outputId": "8c566b6c-8c61-4b33-8d24-3269e75168a0"
      },
      "source": [
        "features_val = strat_val_set.drop(\"target\", axis=1)\n",
        "label_val = strat_val_set[\"target\"].copy()\n",
        "print(features_val.shape, label_val.shape)"
      ],
      "execution_count": null,
      "outputs": [
        {
          "output_type": "stream",
          "name": "stdout",
          "text": [
            "(48, 13) (48,)\n"
          ]
        }
      ]
    },
    {
      "cell_type": "code",
      "metadata": {
        "colab": {
          "base_uri": "https://localhost:8080/"
        },
        "id": "KAOGzGmDn1bL",
        "outputId": "b65191c1-3c48-4f19-ce00-934945f7861e"
      },
      "source": [
        "X_val = full_pipeline.transform(features_val)\n",
        "X_val.shape"
      ],
      "execution_count": null,
      "outputs": [
        {
          "output_type": "execute_result",
          "data": {
            "text/plain": [
              "(48, 25)"
            ]
          },
          "metadata": {},
          "execution_count": 35
        }
      ]
    },
    {
      "cell_type": "markdown",
      "metadata": {
        "id": "pJnZMeSPWk6o"
      },
      "source": [
        "# *Baseline of chosen models*"
      ]
    },
    {
      "cell_type": "code",
      "metadata": {
        "id": "97KTOQw3KSx0"
      },
      "source": [
        "# list of models to be tested\n",
        "models = [\n",
        "        ('RandomForestClassifier',  RandomForestClassifier(random_state=42)),\n",
        "        ('LogisticReg', LogisticRegression(random_state=42)),\n",
        "        ('SVM', SVC(random_state=42)),\n",
        "]"
      ],
      "execution_count": null,
      "outputs": []
    },
    {
      "cell_type": "code",
      "metadata": {
        "colab": {
          "base_uri": "https://localhost:8080/"
        },
        "id": "vDFFU5HISFfp",
        "outputId": "f2c0e5da-3589-467f-d18c-c9fac00218da"
      },
      "source": [
        "label.value_counts()"
      ],
      "execution_count": null,
      "outputs": [
        {
          "output_type": "execute_result",
          "data": {
            "text/plain": [
              "1    104\n",
              "0     88\n",
              "Name: target, dtype: int64"
            ]
          },
          "metadata": {},
          "execution_count": 37
        }
      ]
    },
    {
      "cell_type": "markdown",
      "metadata": {
        "id": "Ax_B6z26SA6y"
      },
      "source": [
        "Since the label is not balanced, I don't use accuracy as the metric to assess the performance of the methodologies, instead, I use F1 score as the metric to do it."
      ]
    },
    {
      "cell_type": "code",
      "metadata": {
        "colab": {
          "base_uri": "https://localhost:8080/"
        },
        "id": "-af5OoqVNNu4",
        "outputId": "0568f0ac-d957-4512-b482-3a4c6dfaca11"
      },
      "source": [
        "%%time\n",
        "from tqdm import tqdm, tqdm_gui\n",
        "## to evaluate the models using cross validation\n",
        "model_names=[]\n",
        "model_scores=[]\n",
        "model_scores_mean=[]\n",
        "model_scores_std=[]\n",
        "cv=4\n",
        "\n",
        "for name, model in tqdm(models):\n",
        "    model_score = cross_val_score(model, training_prepared, label, scoring='f1_micro', cv=cv)\n",
        "   \n",
        "    model_names.append(name)\n",
        "    model_scores.append(model_score)\n",
        "    model_scores_mean.append(model_score.mean())\n",
        "    model_scores_std.append(model_score.std())"
      ],
      "execution_count": null,
      "outputs": [
        {
          "output_type": "stream",
          "name": "stderr",
          "text": [
            "100%|██████████| 3/3 [00:00<00:00,  4.22it/s]"
          ]
        },
        {
          "output_type": "stream",
          "name": "stdout",
          "text": [
            "CPU times: user 696 ms, sys: 2.72 ms, total: 699 ms\n",
            "Wall time: 716 ms\n"
          ]
        },
        {
          "output_type": "stream",
          "name": "stderr",
          "text": [
            "\n"
          ]
        }
      ]
    },
    {
      "cell_type": "code",
      "metadata": {
        "colab": {
          "base_uri": "https://localhost:8080/",
          "height": 142
        },
        "id": "ADZgycHxX4Bg",
        "outputId": "a0102e3f-3cd5-4c46-aef0-2a05d82c3364"
      },
      "source": [
        "model_cv_results = pd.DataFrame({\n",
        "    'Model':model_names, \n",
        "    'F1 Score': [np.round(x, 4) for x in model_scores], \n",
        "    'Mean of F1 Score': model_scores_mean,\n",
        "    'Std of F1 Score': model_scores_std\n",
        "    })\n",
        "model_cv_results.sort_values(by='Mean of F1 Score', ascending=False, ignore_index=True)"
      ],
      "execution_count": null,
      "outputs": [
        {
          "output_type": "execute_result",
          "data": {
            "text/html": [
              "<div>\n",
              "<style scoped>\n",
              "    .dataframe tbody tr th:only-of-type {\n",
              "        vertical-align: middle;\n",
              "    }\n",
              "\n",
              "    .dataframe tbody tr th {\n",
              "        vertical-align: top;\n",
              "    }\n",
              "\n",
              "    .dataframe thead th {\n",
              "        text-align: right;\n",
              "    }\n",
              "</style>\n",
              "<table border=\"1\" class=\"dataframe\">\n",
              "  <thead>\n",
              "    <tr style=\"text-align: right;\">\n",
              "      <th></th>\n",
              "      <th>Model</th>\n",
              "      <th>F1 Score</th>\n",
              "      <th>Mean of F1 Score</th>\n",
              "      <th>Std of F1 Score</th>\n",
              "    </tr>\n",
              "  </thead>\n",
              "  <tbody>\n",
              "    <tr>\n",
              "      <th>0</th>\n",
              "      <td>LogisticReg</td>\n",
              "      <td>[0.875, 0.8542, 0.8958, 0.7917]</td>\n",
              "      <td>0.854167</td>\n",
              "      <td>0.038976</td>\n",
              "    </tr>\n",
              "    <tr>\n",
              "      <th>1</th>\n",
              "      <td>RandomForestClassifier</td>\n",
              "      <td>[0.7917, 0.8542, 0.8542, 0.8125]</td>\n",
              "      <td>0.828125</td>\n",
              "      <td>0.027063</td>\n",
              "    </tr>\n",
              "    <tr>\n",
              "      <th>2</th>\n",
              "      <td>SVM</td>\n",
              "      <td>[0.7917, 0.8125, 0.8125, 0.7917]</td>\n",
              "      <td>0.802083</td>\n",
              "      <td>0.010417</td>\n",
              "    </tr>\n",
              "  </tbody>\n",
              "</table>\n",
              "</div>"
            ],
            "text/plain": [
              "                    Model  ... Std of F1 Score\n",
              "0             LogisticReg  ...        0.038976\n",
              "1  RandomForestClassifier  ...        0.027063\n",
              "2                     SVM  ...        0.010417\n",
              "\n",
              "[3 rows x 4 columns]"
            ]
          },
          "metadata": {},
          "execution_count": 39
        }
      ]
    },
    {
      "cell_type": "markdown",
      "metadata": {
        "id": "sUzKNFb3amTM"
      },
      "source": [
        "It seems logistic regression dominates in these classifications. Next, I will fine tune logistic regression."
      ]
    },
    {
      "cell_type": "markdown",
      "metadata": {
        "id": "t__YVthxlWJa"
      },
      "source": [
        "# *Fine tune logitstic regression -- Bayesian Optimization (Method1: BayesSearchCV in skopt)*"
      ]
    },
    {
      "cell_type": "code",
      "metadata": {
        "colab": {
          "base_uri": "https://localhost:8080/"
        },
        "id": "hxfdpluGYALp",
        "outputId": "f7b6e462-5cb0-435c-d82a-c92adf6815fd"
      },
      "source": [
        "pip install scikit-optimize"
      ],
      "execution_count": null,
      "outputs": [
        {
          "output_type": "stream",
          "name": "stdout",
          "text": [
            "Collecting scikit-optimize\n",
            "  Downloading scikit_optimize-0.9.0-py2.py3-none-any.whl (100 kB)\n",
            "\u001b[?25l\r\u001b[K     |███▎                            | 10 kB 24.5 MB/s eta 0:00:01\r\u001b[K     |██████▌                         | 20 kB 29.9 MB/s eta 0:00:01\r\u001b[K     |█████████▉                      | 30 kB 23.7 MB/s eta 0:00:01\r\u001b[K     |█████████████                   | 40 kB 17.5 MB/s eta 0:00:01\r\u001b[K     |████████████████▍               | 51 kB 7.6 MB/s eta 0:00:01\r\u001b[K     |███████████████████▋            | 61 kB 8.8 MB/s eta 0:00:01\r\u001b[K     |██████████████████████▉         | 71 kB 8.0 MB/s eta 0:00:01\r\u001b[K     |██████████████████████████▏     | 81 kB 8.6 MB/s eta 0:00:01\r\u001b[K     |█████████████████████████████▍  | 92 kB 9.4 MB/s eta 0:00:01\r\u001b[K     |████████████████████████████████| 100 kB 5.2 MB/s \n",
            "\u001b[?25hRequirement already satisfied: scikit-learn>=0.20.0 in /usr/local/lib/python3.7/dist-packages (from scikit-optimize) (1.0.1)\n",
            "Requirement already satisfied: scipy>=0.19.1 in /usr/local/lib/python3.7/dist-packages (from scikit-optimize) (1.4.1)\n",
            "Collecting pyaml>=16.9\n",
            "  Downloading pyaml-21.10.1-py2.py3-none-any.whl (24 kB)\n",
            "Requirement already satisfied: numpy>=1.13.3 in /usr/local/lib/python3.7/dist-packages (from scikit-optimize) (1.19.5)\n",
            "Requirement already satisfied: joblib>=0.11 in /usr/local/lib/python3.7/dist-packages (from scikit-optimize) (1.1.0)\n",
            "Requirement already satisfied: PyYAML in /usr/local/lib/python3.7/dist-packages (from pyaml>=16.9->scikit-optimize) (3.13)\n",
            "Requirement already satisfied: threadpoolctl>=2.0.0 in /usr/local/lib/python3.7/dist-packages (from scikit-learn>=0.20.0->scikit-optimize) (3.0.0)\n",
            "Installing collected packages: pyaml, scikit-optimize\n",
            "Successfully installed pyaml-21.10.1 scikit-optimize-0.9.0\n"
          ]
        }
      ]
    },
    {
      "cell_type": "code",
      "metadata": {
        "id": "kvX6sGbFlemd"
      },
      "source": [
        "from skopt import BayesSearchCV\n",
        "from skopt.space import Real, Categorical, Integer\n",
        "from skopt.plots import plot_objective, plot_histogram"
      ],
      "execution_count": null,
      "outputs": []
    },
    {
      "cell_type": "markdown",
      "metadata": {
        "id": "RvO3G5gCaJ7-"
      },
      "source": [
        "# *Learning Curve Function*"
      ]
    },
    {
      "cell_type": "code",
      "metadata": {
        "id": "ly2fP9o9Z8fT"
      },
      "source": [
        "# to create a learning curve\n",
        "# M is the number of instances used in one batch\n",
        "def plot_learning_curve(model, X_train, y_train, X_val, y_val, M):\n",
        "    train_errors, val_errors = [], []\n",
        "    for m in tqdm(range(3, len(X_train), M)):  # change the lower bound when necessary\n",
        "        model.fit(X_train[:m], y_train[:m])\n",
        "        y_train_predict = model.predict(X_train[:m])\n",
        "        y_val_predict = model.predict(X_val)\n",
        "        train_errors.append(f1_score(y_train[:m], y_train_predict, average='micro'))\n",
        "        val_errors.append(f1_score(y_val, y_val_predict, average='micro'))\n",
        "    plt.figure(figsize=(12,8))\n",
        "    plt.ylim([0.1, 1.1]) # Must adjust the range! \n",
        "    plt.title('F1 Score')\n",
        "    plt.yticks(np.arange(0.1, 1.1, 0.05))\n",
        "    plt.grid(color = 'green', linestyle = '--', linewidth = 0.5)\n",
        "    plt.plot(train_errors, \"r-+\", linewidth=2, label='train')\n",
        "    plt.plot(val_errors, \"b-\", linewidth=3, label='val')\n",
        "    plt.legend() # in case labels don't show up\n",
        "    plt.show() "
      ],
      "execution_count": null,
      "outputs": []
    },
    {
      "cell_type": "markdown",
      "metadata": {
        "id": "oU37fmK0Xybp"
      },
      "source": [
        "I construct tuning space of 3 hyperparameters according to the documentation of sklearn."
      ]
    },
    {
      "cell_type": "markdown",
      "metadata": {
        "id": "THU1uEoXfnp5"
      },
      "source": [
        "# *1st tuning*"
      ]
    },
    {
      "cell_type": "code",
      "metadata": {
        "colab": {
          "base_uri": "https://localhost:8080/"
        },
        "id": "e-M2XQlclekY",
        "outputId": "c4bf2782-5bfc-44ae-a8c3-9af994cc123a"
      },
      "source": [
        "import time\n",
        "start = time.time()\n",
        "\n",
        "np.random.seed(42)\n",
        "\n",
        "# pipeline class is used as estimator to enable\n",
        "# search over different model types\n",
        "pipe = Pipeline([\n",
        "    ('model', LogisticRegression())\n",
        "])\n",
        "\n",
        "# explicit dimension classes can be specified like this\n",
        "logit_search = {\n",
        "    'model': Categorical([LogisticRegression(random_state=42)]),\n",
        "    'model__C': Real(1e-4, 1e+4, prior='log-uniform'),\n",
        "    'model__penalty': Categorical(['l2', 'none']),\n",
        "    'model__solver': Categorical(['lbfgs', 'newton-cg'])\n",
        "}\n",
        "\n",
        "opt = BayesSearchCV(\n",
        "    pipe,\n",
        "    # (parameter space, # of evaluations)\n",
        "    [(logit_search, 10)],\n",
        "    cv=4,\n",
        "    verbose=2\n",
        ")\n",
        "\n",
        "opt.fit(training_prepared, label)\n",
        "\n",
        "end = time.time()\n",
        "timeElapse = end - start\n",
        "print(\"It takes %s minutes\"%round((timeElapse/60), 2))"
      ],
      "execution_count": null,
      "outputs": [
        {
          "output_type": "stream",
          "name": "stdout",
          "text": [
            "Fitting 4 folds for each of 1 candidates, totalling 4 fits\n",
            "[CV] END model=LogisticRegression(random_state=42), model__C=66.3446558203086, model__penalty=none, model__solver=lbfgs; total time=   0.0s\n",
            "[CV] END model=LogisticRegression(random_state=42), model__C=66.3446558203086, model__penalty=none, model__solver=lbfgs; total time=   0.0s\n",
            "[CV] END model=LogisticRegression(random_state=42), model__C=66.3446558203086, model__penalty=none, model__solver=lbfgs; total time=   0.0s\n",
            "[CV] END model=LogisticRegression(random_state=42), model__C=66.3446558203086, model__penalty=none, model__solver=lbfgs; total time=   0.0s\n",
            "Fitting 4 folds for each of 1 candidates, totalling 4 fits\n",
            "[CV] END model=LogisticRegression(random_state=42), model__C=1165.5266791092008, model__penalty=l2, model__solver=newton-cg; total time=   0.0s\n",
            "[CV] END model=LogisticRegression(random_state=42), model__C=1165.5266791092008, model__penalty=l2, model__solver=newton-cg; total time=   0.0s\n",
            "[CV] END model=LogisticRegression(random_state=42), model__C=1165.5266791092008, model__penalty=l2, model__solver=newton-cg; total time=   0.0s\n",
            "[CV] END model=LogisticRegression(random_state=42), model__C=1165.5266791092008, model__penalty=l2, model__solver=newton-cg; total time=   0.0s\n",
            "Fitting 4 folds for each of 1 candidates, totalling 4 fits\n",
            "[CV] END model=LogisticRegression(random_state=42), model__C=2237.588252824436, model__penalty=l2, model__solver=lbfgs; total time=   0.0s\n",
            "[CV] END model=LogisticRegression(random_state=42), model__C=2237.588252824436, model__penalty=l2, model__solver=lbfgs; total time=   0.0s\n",
            "[CV] END model=LogisticRegression(random_state=42), model__C=2237.588252824436, model__penalty=l2, model__solver=lbfgs; total time=   0.0s\n",
            "[CV] END model=LogisticRegression(random_state=42), model__C=2237.588252824436, model__penalty=l2, model__solver=lbfgs; total time=   0.0s\n",
            "Fitting 4 folds for each of 1 candidates, totalling 4 fits\n",
            "[CV] END model=LogisticRegression(random_state=42), model__C=0.0023712235042499274, model__penalty=none, model__solver=newton-cg; total time=   0.0s\n",
            "[CV] END model=LogisticRegression(random_state=42), model__C=0.0023712235042499274, model__penalty=none, model__solver=newton-cg; total time=   0.0s\n",
            "[CV] END model=LogisticRegression(random_state=42), model__C=0.0023712235042499274, model__penalty=none, model__solver=newton-cg; total time=   0.0s\n",
            "[CV] END model=LogisticRegression(random_state=42), model__C=0.0023712235042499274, model__penalty=none, model__solver=newton-cg; total time=   0.0s\n",
            "Fitting 4 folds for each of 1 candidates, totalling 4 fits\n",
            "[CV] END model=LogisticRegression(random_state=42), model__C=0.31932541960563615, model__penalty=none, model__solver=newton-cg; total time=   0.0s\n",
            "[CV] END model=LogisticRegression(random_state=42), model__C=0.31932541960563615, model__penalty=none, model__solver=newton-cg; total time=   0.0s\n",
            "[CV] END model=LogisticRegression(random_state=42), model__C=0.31932541960563615, model__penalty=none, model__solver=newton-cg; total time=   0.0s\n",
            "[CV] END model=LogisticRegression(random_state=42), model__C=0.31932541960563615, model__penalty=none, model__solver=newton-cg; total time=   0.0s\n",
            "Fitting 4 folds for each of 1 candidates, totalling 4 fits\n",
            "[CV] END model=LogisticRegression(random_state=42), model__C=3273.0896501169477, model__penalty=l2, model__solver=lbfgs; total time=   0.0s\n",
            "[CV] END model=LogisticRegression(random_state=42), model__C=3273.0896501169477, model__penalty=l2, model__solver=lbfgs; total time=   0.0s\n",
            "[CV] END model=LogisticRegression(random_state=42), model__C=3273.0896501169477, model__penalty=l2, model__solver=lbfgs; total time=   0.0s\n",
            "[CV] END model=LogisticRegression(random_state=42), model__C=3273.0896501169477, model__penalty=l2, model__solver=lbfgs; total time=   0.0s\n",
            "Fitting 4 folds for each of 1 candidates, totalling 4 fits\n",
            "[CV] END model=LogisticRegression(random_state=42), model__C=159.5566945267273, model__penalty=l2, model__solver=newton-cg; total time=   0.0s\n",
            "[CV] END model=LogisticRegression(random_state=42), model__C=159.5566945267273, model__penalty=l2, model__solver=newton-cg; total time=   0.0s\n",
            "[CV] END model=LogisticRegression(random_state=42), model__C=159.5566945267273, model__penalty=l2, model__solver=newton-cg; total time=   0.0s\n",
            "[CV] END model=LogisticRegression(random_state=42), model__C=159.5566945267273, model__penalty=l2, model__solver=newton-cg; total time=   0.0s\n",
            "Fitting 4 folds for each of 1 candidates, totalling 4 fits\n",
            "[CV] END model=LogisticRegression(random_state=42), model__C=2291.257035436645, model__penalty=l2, model__solver=newton-cg; total time=   0.0s\n",
            "[CV] END model=LogisticRegression(random_state=42), model__C=2291.257035436645, model__penalty=l2, model__solver=newton-cg; total time=   0.0s\n",
            "[CV] END model=LogisticRegression(random_state=42), model__C=2291.257035436645, model__penalty=l2, model__solver=newton-cg; total time=   0.0s\n",
            "[CV] END model=LogisticRegression(random_state=42), model__C=2291.257035436645, model__penalty=l2, model__solver=newton-cg; total time=   0.0s\n",
            "Fitting 4 folds for each of 1 candidates, totalling 4 fits\n",
            "[CV] END model=LogisticRegression(random_state=42), model__C=40.269066024586806, model__penalty=none, model__solver=lbfgs; total time=   0.0s\n",
            "[CV] END model=LogisticRegression(random_state=42), model__C=40.269066024586806, model__penalty=none, model__solver=lbfgs; total time=   0.0s\n",
            "[CV] END model=LogisticRegression(random_state=42), model__C=40.269066024586806, model__penalty=none, model__solver=lbfgs; total time=   0.0s\n",
            "[CV] END model=LogisticRegression(random_state=42), model__C=40.269066024586806, model__penalty=none, model__solver=lbfgs; total time=   0.0s\n",
            "Fitting 4 folds for each of 1 candidates, totalling 4 fits\n",
            "[CV] END model=LogisticRegression(random_state=42), model__C=348.8511486549922, model__penalty=none, model__solver=lbfgs; total time=   0.0s\n",
            "[CV] END model=LogisticRegression(random_state=42), model__C=348.8511486549922, model__penalty=none, model__solver=lbfgs; total time=   0.0s\n",
            "[CV] END model=LogisticRegression(random_state=42), model__C=348.8511486549922, model__penalty=none, model__solver=lbfgs; total time=   0.0s\n",
            "[CV] END model=LogisticRegression(random_state=42), model__C=348.8511486549922, model__penalty=none, model__solver=lbfgs; total time=   0.0s\n",
            "It takes 0.03 minutes\n"
          ]
        }
      ]
    },
    {
      "cell_type": "code",
      "metadata": {
        "colab": {
          "base_uri": "https://localhost:8080/"
        },
        "id": "oobvbwCkleg_",
        "outputId": "f99bb62d-a62e-49ab-f1b3-77a28fc77b6c"
      },
      "source": [
        "opt.best_params_"
      ],
      "execution_count": null,
      "outputs": [
        {
          "output_type": "execute_result",
          "data": {
            "text/plain": [
              "OrderedDict([('model',\n",
              "              LogisticRegression(C=1165.5266791092008, random_state=42, solver='newton-cg')),\n",
              "             ('model__C', 1165.5266791092008),\n",
              "             ('model__penalty', 'l2'),\n",
              "             ('model__solver', 'newton-cg')])"
            ]
          },
          "metadata": {},
          "execution_count": 44
        }
      ]
    },
    {
      "cell_type": "code",
      "metadata": {
        "colab": {
          "base_uri": "https://localhost:8080/"
        },
        "id": "AHdGzZ7mYAH3",
        "outputId": "2e125e23-88d3-440d-d58e-390426c6476e"
      },
      "source": [
        "opt.best_score_"
      ],
      "execution_count": null,
      "outputs": [
        {
          "output_type": "execute_result",
          "data": {
            "text/plain": [
              "0.8281249999999999"
            ]
          },
          "metadata": {},
          "execution_count": 45
        }
      ]
    },
    {
      "cell_type": "markdown",
      "metadata": {
        "id": "ocEp94PJav3F"
      },
      "source": [
        "This is lower than 0.85 -- the baseline. I will check the metric from the validation data."
      ]
    },
    {
      "cell_type": "code",
      "metadata": {
        "id": "VpitgMbaqEk5",
        "colab": {
          "base_uri": "https://localhost:8080/"
        },
        "outputId": "3f7921ea-4b0a-4e6a-bd5f-d6464e73a818"
      },
      "source": [
        "opt.score(X_val, label_val)"
      ],
      "execution_count": null,
      "outputs": [
        {
          "output_type": "execute_result",
          "data": {
            "text/plain": [
              "0.8333333333333334"
            ]
          },
          "metadata": {},
          "execution_count": 46
        }
      ]
    },
    {
      "cell_type": "code",
      "metadata": {
        "colab": {
          "base_uri": "https://localhost:8080/",
          "height": 550
        },
        "id": "DTR9B5FUZ8bf",
        "outputId": "01724a2b-839a-4c80-bb45-a2bf5b726b01"
      },
      "source": [
        "%%time\n",
        "\n",
        "my_model = LogisticRegression(\n",
        "    C = int(opt.best_params_['model__C']),\n",
        "    penalty = opt.best_params_['model__penalty'],\n",
        "    solver = opt.best_params_['model__solver']\n",
        ")\n",
        "\n",
        "plot_learning_curve(my_model, training_prepared, label, X_val, label_val, M=10)"
      ],
      "execution_count": null,
      "outputs": [
        {
          "output_type": "stream",
          "name": "stderr",
          "text": [
            "100%|██████████| 19/19 [00:00<00:00, 66.48it/s]\n"
          ]
        },
        {
          "output_type": "display_data",
          "data": {
            "image/png": "[encoded data removed]",
            "text/plain": [
              "<Figure size 864x576 with 1 Axes>"
            ]
          },
          "metadata": {
            "needs_background": "light"
          }
        },
        {
          "output_type": "stream",
          "name": "stdout",
          "text": [
            "CPU times: user 536 ms, sys: 28.3 ms, total: 565 ms\n",
            "Wall time: 550 ms\n"
          ]
        }
      ]
    },
    {
      "cell_type": "markdown",
      "metadata": {
        "id": "mLpV4WaQYZqX"
      },
      "source": [
        "It is a good signal that validation curve approachs train curve as data batches increase."
      ]
    },
    {
      "cell_type": "markdown",
      "metadata": {
        "id": "6pcSP-BBgeE2"
      },
      "source": [
        "# *2nd tuning*"
      ]
    },
    {
      "cell_type": "markdown",
      "metadata": {
        "id": "Ui8RMQndY3FB"
      },
      "source": [
        "I revise the tuning space a bit."
      ]
    },
    {
      "cell_type": "code",
      "metadata": {
        "colab": {
          "base_uri": "https://localhost:8080/"
        },
        "id": "18AA76BFgc4L",
        "outputId": "c162725a-8511-4d21-ef07-e4d8c5acbcbf"
      },
      "source": [
        "start = time.time()\n",
        "\n",
        "np.random.seed(42)\n",
        "\n",
        "# pipeline class is used as estimator to enable\n",
        "# search over different model types\n",
        "pipe = Pipeline([\n",
        "    ('model', LogisticRegression())\n",
        "])\n",
        "\n",
        "# explicit dimension classes can be specified like this\n",
        "logit_search = {\n",
        "    'model': Categorical([LogisticRegression(random_state=42)]),\n",
        "    'model__C': Real(1e-3, 1e+3, prior='log-uniform'),\n",
        "    'model__penalty': Categorical(['l2', 'none']),\n",
        "    'model__solver': Categorical(['lbfgs', 'newton-cg'])\n",
        "}\n",
        "\n",
        "opt = BayesSearchCV(\n",
        "    pipe,\n",
        "    # (parameter space, # of evaluations)\n",
        "    [(logit_search, 10)],\n",
        "    cv=4,\n",
        "    verbose=2\n",
        ")\n",
        "\n",
        "opt.fit(training_prepared, label)\n",
        "\n",
        "end = time.time()\n",
        "timeElapse = end - start\n",
        "print(\"It takes %s minutes\"%round((timeElapse/60), 2))"
      ],
      "execution_count": null,
      "outputs": [
        {
          "output_type": "stream",
          "name": "stdout",
          "text": [
            "Fitting 4 folds for each of 1 candidates, totalling 4 fits\n",
            "[CV] END model=LogisticRegression(random_state=42), model__C=23.24633323298668, model__penalty=none, model__solver=lbfgs; total time=   0.0s\n",
            "[CV] END model=LogisticRegression(random_state=42), model__C=23.24633323298668, model__penalty=none, model__solver=lbfgs; total time=   0.0s\n",
            "[CV] END model=LogisticRegression(random_state=42), model__C=23.24633323298668, model__penalty=none, model__solver=lbfgs; total time=   0.0s\n",
            "[CV] END model=LogisticRegression(random_state=42), model__C=23.24633323298668, model__penalty=none, model__solver=lbfgs; total time=   0.0s\n",
            "Fitting 4 folds for each of 1 candidates, totalling 4 fits\n",
            "[CV] END model=LogisticRegression(random_state=42), model__C=199.47646544646798, model__penalty=l2, model__solver=newton-cg; total time=   0.0s\n",
            "[CV] END model=LogisticRegression(random_state=42), model__C=199.47646544646798, model__penalty=l2, model__solver=newton-cg; total time=   0.0s\n",
            "[CV] END model=LogisticRegression(random_state=42), model__C=199.47646544646798, model__penalty=l2, model__solver=newton-cg; total time=   0.0s\n",
            "[CV] END model=LogisticRegression(random_state=42), model__C=199.47646544646798, model__penalty=l2, model__solver=newton-cg; total time=   0.0s\n",
            "Fitting 4 folds for each of 1 candidates, totalling 4 fits\n",
            "[CV] END model=LogisticRegression(random_state=42), model__C=325.338252812549, model__penalty=l2, model__solver=lbfgs; total time=   0.0s\n",
            "[CV] END model=LogisticRegression(random_state=42), model__C=325.338252812549, model__penalty=l2, model__solver=lbfgs; total time=   0.0s\n",
            "[CV] END model=LogisticRegression(random_state=42), model__C=325.338252812549, model__penalty=l2, model__solver=lbfgs; total time=   0.0s\n",
            "[CV] END model=LogisticRegression(random_state=42), model__C=325.338252812549, model__penalty=l2, model__solver=lbfgs; total time=   0.0s\n",
            "Fitting 4 folds for each of 1 candidates, totalling 4 fits\n",
            "[CV] END model=LogisticRegression(random_state=42), model__C=0.010745567791476528, model__penalty=none, model__solver=newton-cg; total time=   0.0s\n",
            "[CV] END model=LogisticRegression(random_state=42), model__C=0.010745567791476528, model__penalty=none, model__solver=newton-cg; total time=   0.0s\n",
            "[CV] END model=LogisticRegression(random_state=42), model__C=0.010745567791476528, model__penalty=none, model__solver=newton-cg; total time=   0.0s\n",
            "[CV] END model=LogisticRegression(random_state=42), model__C=0.010745567791476528, model__penalty=none, model__solver=newton-cg; total time=   0.0s\n",
            "Fitting 4 folds for each of 1 candidates, totalling 4 fits\n",
            "[CV] END model=LogisticRegression(random_state=42), model__C=0.42479081594169454, model__penalty=none, model__solver=newton-cg; total time=   0.0s\n",
            "[CV] END model=LogisticRegression(random_state=42), model__C=0.42479081594169454, model__penalty=none, model__solver=newton-cg; total time=   0.0s\n",
            "[CV] END model=LogisticRegression(random_state=42), model__C=0.42479081594169454, model__penalty=none, model__solver=newton-cg; total time=   0.0s\n",
            "[CV] END model=LogisticRegression(random_state=42), model__C=0.42479081594169454, model__penalty=none, model__solver=newton-cg; total time=   0.0s\n",
            "Fitting 4 folds for each of 1 candidates, totalling 4 fits\n",
            "[CV] END model=LogisticRegression(random_state=42), model__C=432.7314157965783, model__penalty=l2, model__solver=lbfgs; total time=   0.0s\n",
            "[CV] END model=LogisticRegression(random_state=42), model__C=432.7314157965783, model__penalty=l2, model__solver=lbfgs; total time=   0.0s\n",
            "[CV] END model=LogisticRegression(random_state=42), model__C=432.7314157965783, model__penalty=l2, model__solver=lbfgs; total time=   0.0s\n",
            "[CV] END model=LogisticRegression(random_state=42), model__C=432.7314157965783, model__penalty=l2, model__solver=lbfgs; total time=   0.0s\n",
            "Fitting 4 folds for each of 1 candidates, totalling 4 fits\n",
            "[CV] END model=LogisticRegression(random_state=42), model__C=44.89379023123383, model__penalty=l2, model__solver=newton-cg; total time=   0.0s\n",
            "[CV] END model=LogisticRegression(random_state=42), model__C=44.89379023123383, model__penalty=l2, model__solver=newton-cg; total time=   0.0s\n",
            "[CV] END model=LogisticRegression(random_state=42), model__C=44.89379023123383, model__penalty=l2, model__solver=newton-cg; total time=   0.0s\n",
            "[CV] END model=LogisticRegression(random_state=42), model__C=44.89379023123383, model__penalty=l2, model__solver=newton-cg; total time=   0.0s\n",
            "Fitting 4 folds for each of 1 candidates, totalling 4 fits\n",
            "[CV] END model=LogisticRegression(random_state=42), model__C=331.1733327754671, model__penalty=l2, model__solver=newton-cg; total time=   0.0s\n",
            "[CV] END model=LogisticRegression(random_state=42), model__C=331.1733327754671, model__penalty=l2, model__solver=newton-cg; total time=   0.0s\n",
            "[CV] END model=LogisticRegression(random_state=42), model__C=331.1733327754671, model__penalty=l2, model__solver=newton-cg; total time=   0.0s\n",
            "[CV] END model=LogisticRegression(random_state=42), model__C=331.1733327754671, model__penalty=l2, model__solver=newton-cg; total time=   0.0s\n",
            "Fitting 4 folds for each of 1 candidates, totalling 4 fits\n",
            "[CV] END model=LogisticRegression(random_state=42), model__C=15.985589918267479, model__penalty=none, model__solver=lbfgs; total time=   0.0s\n",
            "[CV] END model=LogisticRegression(random_state=42), model__C=15.985589918267479, model__penalty=none, model__solver=lbfgs; total time=   0.0s\n",
            "[CV] END model=LogisticRegression(random_state=42), model__C=15.985589918267479, model__penalty=none, model__solver=lbfgs; total time=   0.0s\n",
            "[CV] END model=LogisticRegression(random_state=42), model__C=15.985589918267479, model__penalty=none, model__solver=lbfgs; total time=   0.0s\n",
            "Fitting 4 folds for each of 1 candidates, totalling 4 fits\n",
            "[CV] END model=LogisticRegression(random_state=42), model__C=80.71980758451053, model__penalty=none, model__solver=lbfgs; total time=   0.0s\n",
            "[CV] END model=LogisticRegression(random_state=42), model__C=80.71980758451053, model__penalty=none, model__solver=lbfgs; total time=   0.0s\n",
            "[CV] END model=LogisticRegression(random_state=42), model__C=80.71980758451053, model__penalty=none, model__solver=lbfgs; total time=   0.0s\n",
            "[CV] END model=LogisticRegression(random_state=42), model__C=80.71980758451053, model__penalty=none, model__solver=lbfgs; total time=   0.0s\n",
            "It takes 0.03 minutes\n"
          ]
        }
      ]
    },
    {
      "cell_type": "code",
      "metadata": {
        "colab": {
          "base_uri": "https://localhost:8080/"
        },
        "id": "b0FwDYl9gc1j",
        "outputId": "0d22369c-6293-478a-974f-d9f627865286"
      },
      "source": [
        "opt.best_params_"
      ],
      "execution_count": null,
      "outputs": [
        {
          "output_type": "execute_result",
          "data": {
            "text/plain": [
              "OrderedDict([('model',\n",
              "              LogisticRegression(C=199.47646544646798, random_state=42, solver='newton-cg')),\n",
              "             ('model__C', 199.47646544646798),\n",
              "             ('model__penalty', 'l2'),\n",
              "             ('model__solver', 'newton-cg')])"
            ]
          },
          "metadata": {},
          "execution_count": 49
        }
      ]
    },
    {
      "cell_type": "code",
      "metadata": {
        "colab": {
          "base_uri": "https://localhost:8080/"
        },
        "id": "PXofDMTWgcyM",
        "outputId": "4590dbba-feee-4e0b-f100-618dbc4411cb"
      },
      "source": [
        "opt.best_score_"
      ],
      "execution_count": null,
      "outputs": [
        {
          "output_type": "execute_result",
          "data": {
            "text/plain": [
              "0.8281249999999999"
            ]
          },
          "metadata": {},
          "execution_count": 50
        }
      ]
    },
    {
      "cell_type": "code",
      "metadata": {
        "colab": {
          "base_uri": "https://localhost:8080/"
        },
        "id": "5YcO_INcgctQ",
        "outputId": "fae21fff-e296-431b-dbf9-43de8c7a8153"
      },
      "source": [
        "opt.score(X_val, label_val)"
      ],
      "execution_count": null,
      "outputs": [
        {
          "output_type": "execute_result",
          "data": {
            "text/plain": [
              "0.8541666666666666"
            ]
          },
          "metadata": {},
          "execution_count": 51
        }
      ]
    },
    {
      "cell_type": "markdown",
      "metadata": {
        "id": "_0Cz-dbmhllW"
      },
      "source": [
        "This score from the validation data is better than that of the 1st tuning."
      ]
    },
    {
      "cell_type": "code",
      "metadata": {
        "colab": {
          "base_uri": "https://localhost:8080/",
          "height": 550
        },
        "id": "LhslcF7Chsq4",
        "outputId": "502978d5-ffed-48ed-e609-bc03269ef6c1"
      },
      "source": [
        "%%time\n",
        "\n",
        "my_model = LogisticRegression(\n",
        "    C = int(opt.best_params_['model__C']),\n",
        "    penalty = opt.best_params_['model__penalty'],\n",
        "    solver = opt.best_params_['model__solver']\n",
        ")\n",
        "\n",
        "plot_learning_curve(my_model, training_prepared, label, X_val, label_val, M=10)"
      ],
      "execution_count": null,
      "outputs": [
        {
          "output_type": "stream",
          "name": "stderr",
          "text": [
            "100%|██████████| 19/19 [00:00<00:00, 70.56it/s]\n"
          ]
        },
        {
          "output_type": "display_data",
          "data": {
            "image/png": "[encoded data removed]",
            "text/plain": [
              "<Figure size 864x576 with 1 Axes>"
            ]
          },
          "metadata": {
            "needs_background": "light"
          }
        },
        {
          "output_type": "stream",
          "name": "stdout",
          "text": [
            "CPU times: user 509 ms, sys: 29.8 ms, total: 539 ms\n",
            "Wall time: 534 ms\n"
          ]
        }
      ]
    },
    {
      "cell_type": "markdown",
      "metadata": {
        "id": "1anpI8eJj-EH"
      },
      "source": [
        "The val curve approaches 0.875 in the end of the process in the 2nd tuning, a bit higher than what it approach in the 1st tuning."
      ]
    },
    {
      "cell_type": "code",
      "metadata": {
        "colab": {
          "base_uri": "https://localhost:8080/"
        },
        "id": "CRiphBSKj3Y7",
        "outputId": "f8c80fe4-5ad6-43f6-b8da-6c0c8f53c630"
      },
      "source": [
        "start = time.time()\n",
        "\n",
        "np.random.seed(42)\n",
        "\n",
        "# pipeline class is used as estimator to enable\n",
        "# search over different model types\n",
        "pipe = Pipeline([\n",
        "    ('model', LogisticRegression())\n",
        "])\n",
        "\n",
        "# explicit dimension classes can be specified like this\n",
        "logit_search = {\n",
        "    'model': Categorical([LogisticRegression(random_state=42)]),\n",
        "    'model__C': Real(1e-2, 1e+2, prior='log-uniform'),\n",
        "    'model__penalty': Categorical(['l2', 'none']),\n",
        "    'model__solver': Categorical(['lbfgs', 'newton-cg'])\n",
        "}\n",
        "\n",
        "opt = BayesSearchCV(\n",
        "    pipe,\n",
        "    # (parameter space, # of evaluations)\n",
        "    [(logit_search, 10)],\n",
        "    cv=4,\n",
        "    verbose=2\n",
        ")\n",
        "\n",
        "opt.fit(training_prepared, label)\n",
        "\n",
        "end = time.time()\n",
        "timeElapse = end - start\n",
        "print(\"It takes %s minutes\"%round((timeElapse/60), 2))"
      ],
      "execution_count": null,
      "outputs": [
        {
          "output_type": "stream",
          "name": "stdout",
          "text": [
            "Fitting 4 folds for each of 1 candidates, totalling 4 fits\n",
            "[CV] END model=LogisticRegression(random_state=42), model__C=8.145222883402798, model__penalty=none, model__solver=lbfgs; total time=   0.0s\n",
            "[CV] END model=LogisticRegression(random_state=42), model__C=8.145222883402798, model__penalty=none, model__solver=lbfgs; total time=   0.0s\n",
            "[CV] END model=LogisticRegression(random_state=42), model__C=8.145222883402798, model__penalty=none, model__solver=lbfgs; total time=   0.0s\n",
            "[CV] END model=LogisticRegression(random_state=42), model__C=8.145222883402798, model__penalty=none, model__solver=lbfgs; total time=   0.0s\n",
            "Fitting 4 folds for each of 1 candidates, totalling 4 fits\n",
            "[CV] END model=LogisticRegression(random_state=42), model__C=34.139810765573976, model__penalty=l2, model__solver=newton-cg; total time=   0.0s\n",
            "[CV] END model=LogisticRegression(random_state=42), model__C=34.139810765573976, model__penalty=l2, model__solver=newton-cg; total time=   0.0s\n",
            "[CV] END model=LogisticRegression(random_state=42), model__C=34.139810765573976, model__penalty=l2, model__solver=newton-cg; total time=   0.0s\n",
            "[CV] END model=LogisticRegression(random_state=42), model__C=34.139810765573976, model__penalty=l2, model__solver=newton-cg; total time=   0.0s\n",
            "Fitting 4 folds for each of 1 candidates, totalling 4 fits\n",
            "[CV] END model=LogisticRegression(random_state=42), model__C=47.30315267320388, model__penalty=l2, model__solver=lbfgs; total time=   0.0s\n",
            "[CV] END model=LogisticRegression(random_state=42), model__C=47.30315267320388, model__penalty=l2, model__solver=lbfgs; total time=   0.0s\n",
            "[CV] END model=LogisticRegression(random_state=42), model__C=47.30315267320388, model__penalty=l2, model__solver=lbfgs; total time=   0.0s\n",
            "[CV] END model=LogisticRegression(random_state=42), model__C=47.30315267320388, model__penalty=l2, model__solver=lbfgs; total time=   0.0s\n",
            "Fitting 4 folds for each of 1 candidates, totalling 4 fits\n",
            "[CV] END model=LogisticRegression(random_state=42), model__C=0.04869521028037488, model__penalty=none, model__solver=newton-cg; total time=   0.0s\n",
            "[CV] END model=LogisticRegression(random_state=42), model__C=0.04869521028037488, model__penalty=none, model__solver=newton-cg; total time=   0.0s\n",
            "[CV] END model=LogisticRegression(random_state=42), model__C=0.04869521028037488, model__penalty=none, model__solver=newton-cg; total time=   0.0s\n",
            "[CV] END model=LogisticRegression(random_state=42), model__C=0.04869521028037488, model__penalty=none, model__solver=newton-cg; total time=   0.0s\n",
            "Fitting 4 folds for each of 1 candidates, totalling 4 fits\n",
            "[CV] END model=LogisticRegression(random_state=42), model__C=0.5650888599199564, model__penalty=none, model__solver=newton-cg; total time=   0.0s\n",
            "[CV] END model=LogisticRegression(random_state=42), model__C=0.5650888599199564, model__penalty=none, model__solver=newton-cg; total time=   0.0s\n",
            "[CV] END model=LogisticRegression(random_state=42), model__C=0.5650888599199564, model__penalty=none, model__solver=newton-cg; total time=   0.0s\n",
            "[CV] END model=LogisticRegression(random_state=42), model__C=0.5650888599199564, model__penalty=none, model__solver=newton-cg; total time=   0.0s\n",
            "Fitting 4 folds for each of 1 candidates, totalling 4 fits\n",
            "[CV] END model=LogisticRegression(random_state=42), model__C=57.21092247217263, model__penalty=l2, model__solver=lbfgs; total time=   0.0s\n",
            "[CV] END model=LogisticRegression(random_state=42), model__C=57.21092247217263, model__penalty=l2, model__solver=lbfgs; total time=   0.0s\n",
            "[CV] END model=LogisticRegression(random_state=42), model__C=57.21092247217263, model__penalty=l2, model__solver=lbfgs; total time=   0.0s\n",
            "[CV] END model=LogisticRegression(random_state=42), model__C=57.21092247217263, model__penalty=l2, model__solver=lbfgs; total time=   0.0s\n",
            "Fitting 4 folds for each of 1 candidates, totalling 4 fits\n",
            "[CV] END model=LogisticRegression(random_state=42), model__C=12.631575298699973, model__penalty=l2, model__solver=newton-cg; total time=   0.0s\n",
            "[CV] END model=LogisticRegression(random_state=42), model__C=12.631575298699973, model__penalty=l2, model__solver=newton-cg; total time=   0.0s\n",
            "[CV] END model=LogisticRegression(random_state=42), model__C=12.631575298699973, model__penalty=l2, model__solver=newton-cg; total time=   0.0s\n",
            "[CV] END model=LogisticRegression(random_state=42), model__C=12.631575298699973, model__penalty=l2, model__solver=newton-cg; total time=   0.0s\n",
            "Fitting 4 folds for each of 1 candidates, totalling 4 fits\n",
            "[CV] END model=LogisticRegression(random_state=42), model__C=47.867076737948445, model__penalty=l2, model__solver=newton-cg; total time=   0.0s\n",
            "[CV] END model=LogisticRegression(random_state=42), model__C=47.867076737948445, model__penalty=l2, model__solver=newton-cg; total time=   0.0s\n",
            "[CV] END model=LogisticRegression(random_state=42), model__C=47.867076737948445, model__penalty=l2, model__solver=newton-cg; total time=   0.0s\n",
            "[CV] END model=LogisticRegression(random_state=42), model__C=47.867076737948445, model__penalty=l2, model__solver=newton-cg; total time=   0.0s\n",
            "Fitting 4 folds for each of 1 candidates, totalling 4 fits\n",
            "[CV] END model=LogisticRegression(random_state=42), model__C=6.345791205561904, model__penalty=none, model__solver=lbfgs; total time=   0.0s\n",
            "[CV] END model=LogisticRegression(random_state=42), model__C=6.345791205561904, model__penalty=none, model__solver=lbfgs; total time=   0.0s\n",
            "[CV] END model=LogisticRegression(random_state=42), model__C=6.345791205561904, model__penalty=none, model__solver=lbfgs; total time=   0.0s\n",
            "[CV] END model=LogisticRegression(random_state=42), model__C=6.345791205561904, model__penalty=none, model__solver=lbfgs; total time=   0.0s\n",
            "Fitting 4 folds for each of 1 candidates, totalling 4 fits\n",
            "[CV] END model=LogisticRegression(random_state=42), model__C=18.67755735247498, model__penalty=none, model__solver=lbfgs; total time=   0.0s\n",
            "[CV] END model=LogisticRegression(random_state=42), model__C=18.67755735247498, model__penalty=none, model__solver=lbfgs; total time=   0.0s\n",
            "[CV] END model=LogisticRegression(random_state=42), model__C=18.67755735247498, model__penalty=none, model__solver=lbfgs; total time=   0.0s\n",
            "[CV] END model=LogisticRegression(random_state=42), model__C=18.67755735247498, model__penalty=none, model__solver=lbfgs; total time=   0.0s\n",
            "It takes 0.03 minutes\n"
          ]
        }
      ]
    },
    {
      "cell_type": "code",
      "metadata": {
        "colab": {
          "base_uri": "https://localhost:8080/"
        },
        "id": "ZifcEQ6FkPTj",
        "outputId": "f3fc058b-ca9f-4c8d-b414-f34ae6f6cdc7"
      },
      "source": [
        "opt.best_params_"
      ],
      "execution_count": null,
      "outputs": [
        {
          "output_type": "execute_result",
          "data": {
            "text/plain": [
              "OrderedDict([('model',\n",
              "              LogisticRegression(C=12.631575298699973, random_state=42, solver='newton-cg')),\n",
              "             ('model__C', 12.631575298699973),\n",
              "             ('model__penalty', 'l2'),\n",
              "             ('model__solver', 'newton-cg')])"
            ]
          },
          "metadata": {},
          "execution_count": 54
        }
      ]
    },
    {
      "cell_type": "code",
      "metadata": {
        "colab": {
          "base_uri": "https://localhost:8080/"
        },
        "id": "d7Hp0YdykPQB",
        "outputId": "53d74590-5f5f-495e-8ffa-2e974b15bf51"
      },
      "source": [
        "opt.best_score_"
      ],
      "execution_count": null,
      "outputs": [
        {
          "output_type": "execute_result",
          "data": {
            "text/plain": [
              "0.8385416666666666"
            ]
          },
          "metadata": {},
          "execution_count": 55
        }
      ]
    },
    {
      "cell_type": "code",
      "metadata": {
        "colab": {
          "base_uri": "https://localhost:8080/"
        },
        "id": "5SsPc3tJkUa5",
        "outputId": "dffeded6-dc27-47dc-ad84-092bb4d03c0d"
      },
      "source": [
        "opt.score(X_val, label_val)"
      ],
      "execution_count": null,
      "outputs": [
        {
          "output_type": "execute_result",
          "data": {
            "text/plain": [
              "0.8541666666666666"
            ]
          },
          "metadata": {},
          "execution_count": 56
        }
      ]
    },
    {
      "cell_type": "code",
      "metadata": {
        "colab": {
          "base_uri": "https://localhost:8080/",
          "height": 550
        },
        "id": "RkbXqRROkUTZ",
        "outputId": "dcb4f5ed-8f2c-402c-91e1-36474c03a06b"
      },
      "source": [
        "%%time\n",
        "\n",
        "my_model = LogisticRegression(\n",
        "    C = int(opt.best_params_['model__C']),\n",
        "    penalty = opt.best_params_['model__penalty'],\n",
        "    solver = opt.best_params_['model__solver']\n",
        ")\n",
        "\n",
        "plot_learning_curve(my_model, training_prepared, label, X_val, label_val, M=10)"
      ],
      "execution_count": null,
      "outputs": [
        {
          "output_type": "stream",
          "name": "stderr",
          "text": [
            "100%|██████████| 19/19 [00:00<00:00, 77.14it/s]\n"
          ]
        },
        {
          "output_type": "display_data",
          "data": {
            "image/png": "[encoded data removed]",
            "text/plain": [
              "<Figure size 864x576 with 1 Axes>"
            ]
          },
          "metadata": {
            "needs_background": "light"
          }
        },
        {
          "output_type": "stream",
          "name": "stdout",
          "text": [
            "CPU times: user 501 ms, sys: 6.15 ms, total: 507 ms\n",
            "Wall time: 508 ms\n"
          ]
        }
      ]
    },
    {
      "cell_type": "markdown",
      "metadata": {
        "id": "ThDqIZwDZq91"
      },
      "source": [
        "The 3rd one is not much different from the 2nd one."
      ]
    },
    {
      "cell_type": "markdown",
      "metadata": {
        "id": "JgZUnsj0mGQg"
      },
      "source": [
        "# *Save the tuned model for prediction*"
      ]
    },
    {
      "cell_type": "markdown",
      "metadata": {
        "id": "yFy2EQoGolXx"
      },
      "source": [
        "The model from the 3rd tuning is my final model. I will save it."
      ]
    },
    {
      "cell_type": "code",
      "metadata": {
        "colab": {
          "base_uri": "https://localhost:8080/"
        },
        "id": "hnAbCl9ylazK",
        "outputId": "c7500085-f7c1-43a1-c88b-5224905a9bd9"
      },
      "source": [
        "import joblib\n",
        "#to save the best logistic regression\n",
        "joblib.dump(my_model, \"/content/gdrive/My Drive/Colab Notebooks/Heart Attack Possibility/bestLogit_Nov30.pkl\")"
      ],
      "execution_count": null,
      "outputs": [
        {
          "output_type": "execute_result",
          "data": {
            "text/plain": [
              "['/content/gdrive/My Drive/Colab Notebooks/Heart Attack Possibility/bestLogit_Nov30.pkl']"
            ]
          },
          "metadata": {},
          "execution_count": 153
        }
      ]
    },
    {
      "cell_type": "markdown",
      "metadata": {
        "id": "UZjpGQoGmXB_"
      },
      "source": [
        "# Measure the performance of the final model on the test data"
      ]
    },
    {
      "cell_type": "markdown",
      "metadata": {
        "id": "S430X2haovO7"
      },
      "source": [
        "Now, it is time to transform the test data and use it to make prediction."
      ]
    },
    {
      "cell_type": "markdown",
      "metadata": {
        "id": "HaQZFbGCmfC-"
      },
      "source": [
        "# *Transform Test Data*"
      ]
    },
    {
      "cell_type": "code",
      "metadata": {
        "colab": {
          "base_uri": "https://localhost:8080/"
        },
        "id": "qXzLWSB0mPUf",
        "outputId": "23d24d05-f44e-429b-8550-377cb83533dc"
      },
      "source": [
        "cat_list = ['sex', 'cp', 'fbs', 'restecg', 'exang', 'slope', 'ca', 'thal', 'target']\n",
        "for fea in cat_list:\n",
        "  test_set[fea] = test_set[fea].astype(\"category\")\n",
        "\n",
        "test_set.info()"
      ],
      "execution_count": null,
      "outputs": [
        {
          "output_type": "stream",
          "name": "stdout",
          "text": [
            "<class 'pandas.core.frame.DataFrame'>\n",
            "Int64Index: 61 entries, 233 to 288\n",
            "Data columns (total 14 columns):\n",
            " #   Column    Non-Null Count  Dtype   \n",
            "---  ------    --------------  -----   \n",
            " 0   age       61 non-null     int64   \n",
            " 1   sex       61 non-null     category\n",
            " 2   cp        61 non-null     category\n",
            " 3   trestbps  61 non-null     int64   \n",
            " 4   chol      61 non-null     int64   \n",
            " 5   fbs       61 non-null     category\n",
            " 6   restecg   61 non-null     category\n",
            " 7   thalach   61 non-null     int64   \n",
            " 8   exang     61 non-null     category\n",
            " 9   oldpeak   61 non-null     float64 \n",
            " 10  slope     61 non-null     category\n",
            " 11  ca        61 non-null     category\n",
            " 12  thal      61 non-null     category\n",
            " 13  target    61 non-null     category\n",
            "dtypes: category(9), float64(1), int64(4)\n",
            "memory usage: 4.5 KB\n"
          ]
        }
      ]
    },
    {
      "cell_type": "code",
      "metadata": {
        "colab": {
          "base_uri": "https://localhost:8080/",
          "height": 204
        },
        "id": "hrGIrLXnmPQW",
        "outputId": "9783f2c3-773c-4887-9a57-4dbc749b8a5b"
      },
      "source": [
        "test_set.head()"
      ],
      "execution_count": null,
      "outputs": [
        {
          "output_type": "execute_result",
          "data": {
            "text/html": [
              "<div>\n",
              "<style scoped>\n",
              "    .dataframe tbody tr th:only-of-type {\n",
              "        vertical-align: middle;\n",
              "    }\n",
              "\n",
              "    .dataframe tbody tr th {\n",
              "        vertical-align: top;\n",
              "    }\n",
              "\n",
              "    .dataframe thead th {\n",
              "        text-align: right;\n",
              "    }\n",
              "</style>\n",
              "<table border=\"1\" class=\"dataframe\">\n",
              "  <thead>\n",
              "    <tr style=\"text-align: right;\">\n",
              "      <th></th>\n",
              "      <th>age</th>\n",
              "      <th>sex</th>\n",
              "      <th>cp</th>\n",
              "      <th>trestbps</th>\n",
              "      <th>chol</th>\n",
              "      <th>fbs</th>\n",
              "      <th>restecg</th>\n",
              "      <th>thalach</th>\n",
              "      <th>exang</th>\n",
              "      <th>oldpeak</th>\n",
              "      <th>slope</th>\n",
              "      <th>ca</th>\n",
              "      <th>thal</th>\n",
              "      <th>target</th>\n",
              "    </tr>\n",
              "  </thead>\n",
              "  <tbody>\n",
              "    <tr>\n",
              "      <th>233</th>\n",
              "      <td>64</td>\n",
              "      <td>1</td>\n",
              "      <td>0</td>\n",
              "      <td>120</td>\n",
              "      <td>246</td>\n",
              "      <td>0</td>\n",
              "      <td>0</td>\n",
              "      <td>96</td>\n",
              "      <td>1</td>\n",
              "      <td>2.2</td>\n",
              "      <td>0</td>\n",
              "      <td>1</td>\n",
              "      <td>2</td>\n",
              "      <td>0</td>\n",
              "    </tr>\n",
              "    <tr>\n",
              "      <th>243</th>\n",
              "      <td>57</td>\n",
              "      <td>1</td>\n",
              "      <td>0</td>\n",
              "      <td>152</td>\n",
              "      <td>274</td>\n",
              "      <td>0</td>\n",
              "      <td>1</td>\n",
              "      <td>88</td>\n",
              "      <td>1</td>\n",
              "      <td>1.2</td>\n",
              "      <td>1</td>\n",
              "      <td>1</td>\n",
              "      <td>3</td>\n",
              "      <td>0</td>\n",
              "    </tr>\n",
              "    <tr>\n",
              "      <th>121</th>\n",
              "      <td>59</td>\n",
              "      <td>1</td>\n",
              "      <td>0</td>\n",
              "      <td>138</td>\n",
              "      <td>271</td>\n",
              "      <td>0</td>\n",
              "      <td>0</td>\n",
              "      <td>182</td>\n",
              "      <td>0</td>\n",
              "      <td>0.0</td>\n",
              "      <td>2</td>\n",
              "      <td>0</td>\n",
              "      <td>2</td>\n",
              "      <td>1</td>\n",
              "    </tr>\n",
              "    <tr>\n",
              "      <th>163</th>\n",
              "      <td>38</td>\n",
              "      <td>1</td>\n",
              "      <td>2</td>\n",
              "      <td>138</td>\n",
              "      <td>175</td>\n",
              "      <td>0</td>\n",
              "      <td>1</td>\n",
              "      <td>173</td>\n",
              "      <td>0</td>\n",
              "      <td>0.0</td>\n",
              "      <td>2</td>\n",
              "      <td>4</td>\n",
              "      <td>2</td>\n",
              "      <td>1</td>\n",
              "    </tr>\n",
              "    <tr>\n",
              "      <th>238</th>\n",
              "      <td>77</td>\n",
              "      <td>1</td>\n",
              "      <td>0</td>\n",
              "      <td>125</td>\n",
              "      <td>304</td>\n",
              "      <td>0</td>\n",
              "      <td>0</td>\n",
              "      <td>162</td>\n",
              "      <td>1</td>\n",
              "      <td>0.0</td>\n",
              "      <td>2</td>\n",
              "      <td>3</td>\n",
              "      <td>2</td>\n",
              "      <td>0</td>\n",
              "    </tr>\n",
              "  </tbody>\n",
              "</table>\n",
              "</div>"
            ],
            "text/plain": [
              "     age sex cp  trestbps  chol fbs  ... exang  oldpeak slope  ca thal target\n",
              "233   64   1  0       120   246   0  ...     1      2.2     0   1    2      0\n",
              "243   57   1  0       152   274   0  ...     1      1.2     1   1    3      0\n",
              "121   59   1  0       138   271   0  ...     0      0.0     2   0    2      1\n",
              "163   38   1  2       138   175   0  ...     0      0.0     2   4    2      1\n",
              "238   77   1  0       125   304   0  ...     1      0.0     2   3    2      0\n",
              "\n",
              "[5 rows x 14 columns]"
            ]
          },
          "metadata": {},
          "execution_count": 59
        }
      ]
    },
    {
      "cell_type": "code",
      "metadata": {
        "colab": {
          "base_uri": "https://localhost:8080/",
          "height": 204
        },
        "id": "Cb-CHXgWrZq1",
        "outputId": "c7968f04-e339-4b84-fdb9-9732b90bc202"
      },
      "source": [
        "test_noIndex = test_set.copy()\n",
        "test_noIndex = test_noIndex.reset_index()\n",
        "test_noIndex.head()"
      ],
      "execution_count": null,
      "outputs": [
        {
          "output_type": "execute_result",
          "data": {
            "text/html": [
              "<div>\n",
              "<style scoped>\n",
              "    .dataframe tbody tr th:only-of-type {\n",
              "        vertical-align: middle;\n",
              "    }\n",
              "\n",
              "    .dataframe tbody tr th {\n",
              "        vertical-align: top;\n",
              "    }\n",
              "\n",
              "    .dataframe thead th {\n",
              "        text-align: right;\n",
              "    }\n",
              "</style>\n",
              "<table border=\"1\" class=\"dataframe\">\n",
              "  <thead>\n",
              "    <tr style=\"text-align: right;\">\n",
              "      <th></th>\n",
              "      <th>index</th>\n",
              "      <th>age</th>\n",
              "      <th>sex</th>\n",
              "      <th>cp</th>\n",
              "      <th>trestbps</th>\n",
              "      <th>chol</th>\n",
              "      <th>fbs</th>\n",
              "      <th>restecg</th>\n",
              "      <th>thalach</th>\n",
              "      <th>exang</th>\n",
              "      <th>oldpeak</th>\n",
              "      <th>slope</th>\n",
              "      <th>ca</th>\n",
              "      <th>thal</th>\n",
              "      <th>target</th>\n",
              "    </tr>\n",
              "  </thead>\n",
              "  <tbody>\n",
              "    <tr>\n",
              "      <th>0</th>\n",
              "      <td>233</td>\n",
              "      <td>64</td>\n",
              "      <td>1</td>\n",
              "      <td>0</td>\n",
              "      <td>120</td>\n",
              "      <td>246</td>\n",
              "      <td>0</td>\n",
              "      <td>0</td>\n",
              "      <td>96</td>\n",
              "      <td>1</td>\n",
              "      <td>2.2</td>\n",
              "      <td>0</td>\n",
              "      <td>1</td>\n",
              "      <td>2</td>\n",
              "      <td>0</td>\n",
              "    </tr>\n",
              "    <tr>\n",
              "      <th>1</th>\n",
              "      <td>243</td>\n",
              "      <td>57</td>\n",
              "      <td>1</td>\n",
              "      <td>0</td>\n",
              "      <td>152</td>\n",
              "      <td>274</td>\n",
              "      <td>0</td>\n",
              "      <td>1</td>\n",
              "      <td>88</td>\n",
              "      <td>1</td>\n",
              "      <td>1.2</td>\n",
              "      <td>1</td>\n",
              "      <td>1</td>\n",
              "      <td>3</td>\n",
              "      <td>0</td>\n",
              "    </tr>\n",
              "    <tr>\n",
              "      <th>2</th>\n",
              "      <td>121</td>\n",
              "      <td>59</td>\n",
              "      <td>1</td>\n",
              "      <td>0</td>\n",
              "      <td>138</td>\n",
              "      <td>271</td>\n",
              "      <td>0</td>\n",
              "      <td>0</td>\n",
              "      <td>182</td>\n",
              "      <td>0</td>\n",
              "      <td>0.0</td>\n",
              "      <td>2</td>\n",
              "      <td>0</td>\n",
              "      <td>2</td>\n",
              "      <td>1</td>\n",
              "    </tr>\n",
              "    <tr>\n",
              "      <th>3</th>\n",
              "      <td>163</td>\n",
              "      <td>38</td>\n",
              "      <td>1</td>\n",
              "      <td>2</td>\n",
              "      <td>138</td>\n",
              "      <td>175</td>\n",
              "      <td>0</td>\n",
              "      <td>1</td>\n",
              "      <td>173</td>\n",
              "      <td>0</td>\n",
              "      <td>0.0</td>\n",
              "      <td>2</td>\n",
              "      <td>4</td>\n",
              "      <td>2</td>\n",
              "      <td>1</td>\n",
              "    </tr>\n",
              "    <tr>\n",
              "      <th>4</th>\n",
              "      <td>238</td>\n",
              "      <td>77</td>\n",
              "      <td>1</td>\n",
              "      <td>0</td>\n",
              "      <td>125</td>\n",
              "      <td>304</td>\n",
              "      <td>0</td>\n",
              "      <td>0</td>\n",
              "      <td>162</td>\n",
              "      <td>1</td>\n",
              "      <td>0.0</td>\n",
              "      <td>2</td>\n",
              "      <td>3</td>\n",
              "      <td>2</td>\n",
              "      <td>0</td>\n",
              "    </tr>\n",
              "  </tbody>\n",
              "</table>\n",
              "</div>"
            ],
            "text/plain": [
              "   index  age sex cp  trestbps  chol  ... exang oldpeak  slope ca  thal target\n",
              "0    233   64   1  0       120   246  ...     1     2.2      0  1     2      0\n",
              "1    243   57   1  0       152   274  ...     1     1.2      1  1     3      0\n",
              "2    121   59   1  0       138   271  ...     0     0.0      2  0     2      1\n",
              "3    163   38   1  2       138   175  ...     0     0.0      2  4     2      1\n",
              "4    238   77   1  0       125   304  ...     1     0.0      2  3     2      0\n",
              "\n",
              "[5 rows x 15 columns]"
            ]
          },
          "metadata": {},
          "execution_count": 60
        }
      ]
    },
    {
      "cell_type": "code",
      "metadata": {
        "colab": {
          "base_uri": "https://localhost:8080/"
        },
        "id": "qv0LjoGsog6i",
        "outputId": "e525f75c-3611-40c7-f22e-cef5ee61cb76"
      },
      "source": [
        "features_test = test_set.drop(\"target\", axis=1)\n",
        "\n",
        "print(features_test.shape)"
      ],
      "execution_count": null,
      "outputs": [
        {
          "output_type": "stream",
          "name": "stdout",
          "text": [
            "(61, 13)\n"
          ]
        }
      ]
    },
    {
      "cell_type": "code",
      "metadata": {
        "colab": {
          "base_uri": "https://localhost:8080/"
        },
        "id": "BfXULse7og3O",
        "outputId": "2cbd0119-7d9f-4219-b4b0-5c0e685d4000"
      },
      "source": [
        "X_test = full_pipeline.transform(features_test)\n",
        "X_test.shape"
      ],
      "execution_count": null,
      "outputs": [
        {
          "output_type": "execute_result",
          "data": {
            "text/plain": [
              "(61, 25)"
            ]
          },
          "metadata": {},
          "execution_count": 64
        }
      ]
    },
    {
      "cell_type": "code",
      "metadata": {
        "id": "y7HztP31p32z"
      },
      "source": [
        "# to load this model later\n",
        "import joblib\n",
        "my_model_loaded = joblib.load(\"/content/gdrive/My Drive/Colab Notebooks/Heart Attack Possibility/bestLogit_Nov30.pkl\")"
      ],
      "execution_count": null,
      "outputs": []
    },
    {
      "cell_type": "code",
      "metadata": {
        "id": "yp7Sac1TqBle"
      },
      "source": [
        "# to predict the target value for the test data using the chosen model\n",
        "test_prediction = my_model_loaded.predict(X_test)"
      ],
      "execution_count": null,
      "outputs": []
    },
    {
      "cell_type": "code",
      "metadata": {
        "colab": {
          "base_uri": "https://localhost:8080/"
        },
        "id": "1AldAthAqBh2",
        "outputId": "c781f5a7-fbde-457c-95c3-5b31ae70d3f9"
      },
      "source": [
        "len(test_prediction)"
      ],
      "execution_count": null,
      "outputs": [
        {
          "output_type": "execute_result",
          "data": {
            "text/plain": [
              "61"
            ]
          },
          "metadata": {},
          "execution_count": 67
        }
      ]
    },
    {
      "cell_type": "code",
      "metadata": {
        "colab": {
          "base_uri": "https://localhost:8080/",
          "height": 204
        },
        "id": "4PSjf5a9qgPl",
        "outputId": "70f8de4a-9619-4a2d-ed8b-3eb16b10c343"
      },
      "source": [
        "# to attach the predicted target to the original test data\n",
        "test_prediction = pd.DataFrame(test_prediction)\n",
        "test_prediction.columns = ['predicted_target']\n",
        "final_test_prediction = pd.concat([test_noIndex, test_prediction], axis=1)\n",
        "final_test_prediction.head()"
      ],
      "execution_count": null,
      "outputs": [
        {
          "output_type": "execute_result",
          "data": {
            "text/html": [
              "<div>\n",
              "<style scoped>\n",
              "    .dataframe tbody tr th:only-of-type {\n",
              "        vertical-align: middle;\n",
              "    }\n",
              "\n",
              "    .dataframe tbody tr th {\n",
              "        vertical-align: top;\n",
              "    }\n",
              "\n",
              "    .dataframe thead th {\n",
              "        text-align: right;\n",
              "    }\n",
              "</style>\n",
              "<table border=\"1\" class=\"dataframe\">\n",
              "  <thead>\n",
              "    <tr style=\"text-align: right;\">\n",
              "      <th></th>\n",
              "      <th>index</th>\n",
              "      <th>age</th>\n",
              "      <th>sex</th>\n",
              "      <th>cp</th>\n",
              "      <th>trestbps</th>\n",
              "      <th>chol</th>\n",
              "      <th>fbs</th>\n",
              "      <th>restecg</th>\n",
              "      <th>thalach</th>\n",
              "      <th>exang</th>\n",
              "      <th>oldpeak</th>\n",
              "      <th>slope</th>\n",
              "      <th>ca</th>\n",
              "      <th>thal</th>\n",
              "      <th>target</th>\n",
              "      <th>predicted_target</th>\n",
              "    </tr>\n",
              "  </thead>\n",
              "  <tbody>\n",
              "    <tr>\n",
              "      <th>0</th>\n",
              "      <td>233</td>\n",
              "      <td>64</td>\n",
              "      <td>1</td>\n",
              "      <td>0</td>\n",
              "      <td>120</td>\n",
              "      <td>246</td>\n",
              "      <td>0</td>\n",
              "      <td>0</td>\n",
              "      <td>96</td>\n",
              "      <td>1</td>\n",
              "      <td>2.2</td>\n",
              "      <td>0</td>\n",
              "      <td>1</td>\n",
              "      <td>2</td>\n",
              "      <td>0</td>\n",
              "      <td>0</td>\n",
              "    </tr>\n",
              "    <tr>\n",
              "      <th>1</th>\n",
              "      <td>243</td>\n",
              "      <td>57</td>\n",
              "      <td>1</td>\n",
              "      <td>0</td>\n",
              "      <td>152</td>\n",
              "      <td>274</td>\n",
              "      <td>0</td>\n",
              "      <td>1</td>\n",
              "      <td>88</td>\n",
              "      <td>1</td>\n",
              "      <td>1.2</td>\n",
              "      <td>1</td>\n",
              "      <td>1</td>\n",
              "      <td>3</td>\n",
              "      <td>0</td>\n",
              "      <td>0</td>\n",
              "    </tr>\n",
              "    <tr>\n",
              "      <th>2</th>\n",
              "      <td>121</td>\n",
              "      <td>59</td>\n",
              "      <td>1</td>\n",
              "      <td>0</td>\n",
              "      <td>138</td>\n",
              "      <td>271</td>\n",
              "      <td>0</td>\n",
              "      <td>0</td>\n",
              "      <td>182</td>\n",
              "      <td>0</td>\n",
              "      <td>0.0</td>\n",
              "      <td>2</td>\n",
              "      <td>0</td>\n",
              "      <td>2</td>\n",
              "      <td>1</td>\n",
              "      <td>1</td>\n",
              "    </tr>\n",
              "    <tr>\n",
              "      <th>3</th>\n",
              "      <td>163</td>\n",
              "      <td>38</td>\n",
              "      <td>1</td>\n",
              "      <td>2</td>\n",
              "      <td>138</td>\n",
              "      <td>175</td>\n",
              "      <td>0</td>\n",
              "      <td>1</td>\n",
              "      <td>173</td>\n",
              "      <td>0</td>\n",
              "      <td>0.0</td>\n",
              "      <td>2</td>\n",
              "      <td>4</td>\n",
              "      <td>2</td>\n",
              "      <td>1</td>\n",
              "      <td>1</td>\n",
              "    </tr>\n",
              "    <tr>\n",
              "      <th>4</th>\n",
              "      <td>238</td>\n",
              "      <td>77</td>\n",
              "      <td>1</td>\n",
              "      <td>0</td>\n",
              "      <td>125</td>\n",
              "      <td>304</td>\n",
              "      <td>0</td>\n",
              "      <td>0</td>\n",
              "      <td>162</td>\n",
              "      <td>1</td>\n",
              "      <td>0.0</td>\n",
              "      <td>2</td>\n",
              "      <td>3</td>\n",
              "      <td>2</td>\n",
              "      <td>0</td>\n",
              "      <td>1</td>\n",
              "    </tr>\n",
              "  </tbody>\n",
              "</table>\n",
              "</div>"
            ],
            "text/plain": [
              "   index  age sex cp  trestbps  ...  slope ca thal  target predicted_target\n",
              "0    233   64   1  0       120  ...      0  1    2       0                0\n",
              "1    243   57   1  0       152  ...      1  1    3       0                0\n",
              "2    121   59   1  0       138  ...      2  0    2       1                1\n",
              "3    163   38   1  2       138  ...      2  4    2       1                1\n",
              "4    238   77   1  0       125  ...      2  3    2       0                1\n",
              "\n",
              "[5 rows x 16 columns]"
            ]
          },
          "metadata": {},
          "execution_count": 68
        }
      ]
    },
    {
      "cell_type": "code",
      "metadata": {
        "colab": {
          "base_uri": "https://localhost:8080/",
          "height": 450
        },
        "id": "1bq9UmnBsvHU",
        "outputId": "34174f06-69f6-4c43-be0e-60b00535098e"
      },
      "source": [
        "final_test_prediction.set_index('index')"
      ],
      "execution_count": null,
      "outputs": [
        {
          "output_type": "execute_result",
          "data": {
            "text/html": [
              "<div>\n",
              "<style scoped>\n",
              "    .dataframe tbody tr th:only-of-type {\n",
              "        vertical-align: middle;\n",
              "    }\n",
              "\n",
              "    .dataframe tbody tr th {\n",
              "        vertical-align: top;\n",
              "    }\n",
              "\n",
              "    .dataframe thead th {\n",
              "        text-align: right;\n",
              "    }\n",
              "</style>\n",
              "<table border=\"1\" class=\"dataframe\">\n",
              "  <thead>\n",
              "    <tr style=\"text-align: right;\">\n",
              "      <th></th>\n",
              "      <th>age</th>\n",
              "      <th>sex</th>\n",
              "      <th>cp</th>\n",
              "      <th>trestbps</th>\n",
              "      <th>chol</th>\n",
              "      <th>fbs</th>\n",
              "      <th>restecg</th>\n",
              "      <th>thalach</th>\n",
              "      <th>exang</th>\n",
              "      <th>oldpeak</th>\n",
              "      <th>slope</th>\n",
              "      <th>ca</th>\n",
              "      <th>thal</th>\n",
              "      <th>target</th>\n",
              "      <th>predicted_target</th>\n",
              "    </tr>\n",
              "    <tr>\n",
              "      <th>index</th>\n",
              "      <th></th>\n",
              "      <th></th>\n",
              "      <th></th>\n",
              "      <th></th>\n",
              "      <th></th>\n",
              "      <th></th>\n",
              "      <th></th>\n",
              "      <th></th>\n",
              "      <th></th>\n",
              "      <th></th>\n",
              "      <th></th>\n",
              "      <th></th>\n",
              "      <th></th>\n",
              "      <th></th>\n",
              "      <th></th>\n",
              "    </tr>\n",
              "  </thead>\n",
              "  <tbody>\n",
              "    <tr>\n",
              "      <th>233</th>\n",
              "      <td>64</td>\n",
              "      <td>1</td>\n",
              "      <td>0</td>\n",
              "      <td>120</td>\n",
              "      <td>246</td>\n",
              "      <td>0</td>\n",
              "      <td>0</td>\n",
              "      <td>96</td>\n",
              "      <td>1</td>\n",
              "      <td>2.2</td>\n",
              "      <td>0</td>\n",
              "      <td>1</td>\n",
              "      <td>2</td>\n",
              "      <td>0</td>\n",
              "      <td>0</td>\n",
              "    </tr>\n",
              "    <tr>\n",
              "      <th>243</th>\n",
              "      <td>57</td>\n",
              "      <td>1</td>\n",
              "      <td>0</td>\n",
              "      <td>152</td>\n",
              "      <td>274</td>\n",
              "      <td>0</td>\n",
              "      <td>1</td>\n",
              "      <td>88</td>\n",
              "      <td>1</td>\n",
              "      <td>1.2</td>\n",
              "      <td>1</td>\n",
              "      <td>1</td>\n",
              "      <td>3</td>\n",
              "      <td>0</td>\n",
              "      <td>0</td>\n",
              "    </tr>\n",
              "    <tr>\n",
              "      <th>121</th>\n",
              "      <td>59</td>\n",
              "      <td>1</td>\n",
              "      <td>0</td>\n",
              "      <td>138</td>\n",
              "      <td>271</td>\n",
              "      <td>0</td>\n",
              "      <td>0</td>\n",
              "      <td>182</td>\n",
              "      <td>0</td>\n",
              "      <td>0.0</td>\n",
              "      <td>2</td>\n",
              "      <td>0</td>\n",
              "      <td>2</td>\n",
              "      <td>1</td>\n",
              "      <td>1</td>\n",
              "    </tr>\n",
              "    <tr>\n",
              "      <th>163</th>\n",
              "      <td>38</td>\n",
              "      <td>1</td>\n",
              "      <td>2</td>\n",
              "      <td>138</td>\n",
              "      <td>175</td>\n",
              "      <td>0</td>\n",
              "      <td>1</td>\n",
              "      <td>173</td>\n",
              "      <td>0</td>\n",
              "      <td>0.0</td>\n",
              "      <td>2</td>\n",
              "      <td>4</td>\n",
              "      <td>2</td>\n",
              "      <td>1</td>\n",
              "      <td>1</td>\n",
              "    </tr>\n",
              "    <tr>\n",
              "      <th>238</th>\n",
              "      <td>77</td>\n",
              "      <td>1</td>\n",
              "      <td>0</td>\n",
              "      <td>125</td>\n",
              "      <td>304</td>\n",
              "      <td>0</td>\n",
              "      <td>0</td>\n",
              "      <td>162</td>\n",
              "      <td>1</td>\n",
              "      <td>0.0</td>\n",
              "      <td>2</td>\n",
              "      <td>3</td>\n",
              "      <td>2</td>\n",
              "      <td>0</td>\n",
              "      <td>1</td>\n",
              "    </tr>\n",
              "    <tr>\n",
              "      <th>...</th>\n",
              "      <td>...</td>\n",
              "      <td>...</td>\n",
              "      <td>...</td>\n",
              "      <td>...</td>\n",
              "      <td>...</td>\n",
              "      <td>...</td>\n",
              "      <td>...</td>\n",
              "      <td>...</td>\n",
              "      <td>...</td>\n",
              "      <td>...</td>\n",
              "      <td>...</td>\n",
              "      <td>...</td>\n",
              "      <td>...</td>\n",
              "      <td>...</td>\n",
              "      <td>...</td>\n",
              "    </tr>\n",
              "    <tr>\n",
              "      <th>297</th>\n",
              "      <td>59</td>\n",
              "      <td>1</td>\n",
              "      <td>0</td>\n",
              "      <td>164</td>\n",
              "      <td>176</td>\n",
              "      <td>1</td>\n",
              "      <td>0</td>\n",
              "      <td>90</td>\n",
              "      <td>0</td>\n",
              "      <td>1.0</td>\n",
              "      <td>1</td>\n",
              "      <td>2</td>\n",
              "      <td>1</td>\n",
              "      <td>0</td>\n",
              "      <td>0</td>\n",
              "    </tr>\n",
              "    <tr>\n",
              "      <th>116</th>\n",
              "      <td>41</td>\n",
              "      <td>1</td>\n",
              "      <td>2</td>\n",
              "      <td>130</td>\n",
              "      <td>214</td>\n",
              "      <td>0</td>\n",
              "      <td>0</td>\n",
              "      <td>168</td>\n",
              "      <td>0</td>\n",
              "      <td>2.0</td>\n",
              "      <td>1</td>\n",
              "      <td>0</td>\n",
              "      <td>2</td>\n",
              "      <td>1</td>\n",
              "      <td>1</td>\n",
              "    </tr>\n",
              "    <tr>\n",
              "      <th>271</th>\n",
              "      <td>61</td>\n",
              "      <td>1</td>\n",
              "      <td>3</td>\n",
              "      <td>134</td>\n",
              "      <td>234</td>\n",
              "      <td>0</td>\n",
              "      <td>1</td>\n",
              "      <td>145</td>\n",
              "      <td>0</td>\n",
              "      <td>2.6</td>\n",
              "      <td>1</td>\n",
              "      <td>2</td>\n",
              "      <td>2</td>\n",
              "      <td>0</td>\n",
              "      <td>1</td>\n",
              "    </tr>\n",
              "    <tr>\n",
              "      <th>154</th>\n",
              "      <td>39</td>\n",
              "      <td>0</td>\n",
              "      <td>2</td>\n",
              "      <td>138</td>\n",
              "      <td>220</td>\n",
              "      <td>0</td>\n",
              "      <td>1</td>\n",
              "      <td>152</td>\n",
              "      <td>0</td>\n",
              "      <td>0.0</td>\n",
              "      <td>1</td>\n",
              "      <td>0</td>\n",
              "      <td>2</td>\n",
              "      <td>1</td>\n",
              "      <td>1</td>\n",
              "    </tr>\n",
              "    <tr>\n",
              "      <th>288</th>\n",
              "      <td>57</td>\n",
              "      <td>1</td>\n",
              "      <td>0</td>\n",
              "      <td>110</td>\n",
              "      <td>335</td>\n",
              "      <td>0</td>\n",
              "      <td>1</td>\n",
              "      <td>143</td>\n",
              "      <td>1</td>\n",
              "      <td>3.0</td>\n",
              "      <td>1</td>\n",
              "      <td>1</td>\n",
              "      <td>3</td>\n",
              "      <td>0</td>\n",
              "      <td>0</td>\n",
              "    </tr>\n",
              "  </tbody>\n",
              "</table>\n",
              "<p>61 rows × 15 columns</p>\n",
              "</div>"
            ],
            "text/plain": [
              "       age sex cp  trestbps  chol  ... slope ca  thal target  predicted_target\n",
              "index                              ...                                        \n",
              "233     64   1  0       120   246  ...     0  1     2      0                 0\n",
              "243     57   1  0       152   274  ...     1  1     3      0                 0\n",
              "121     59   1  0       138   271  ...     2  0     2      1                 1\n",
              "163     38   1  2       138   175  ...     2  4     2      1                 1\n",
              "238     77   1  0       125   304  ...     2  3     2      0                 1\n",
              "...    ...  .. ..       ...   ...  ...   ... ..   ...    ...               ...\n",
              "297     59   1  0       164   176  ...     1  2     1      0                 0\n",
              "116     41   1  2       130   214  ...     1  0     2      1                 1\n",
              "271     61   1  3       134   234  ...     1  2     2      0                 1\n",
              "154     39   0  2       138   220  ...     1  0     2      1                 1\n",
              "288     57   1  0       110   335  ...     1  1     3      0                 0\n",
              "\n",
              "[61 rows x 15 columns]"
            ]
          },
          "metadata": {},
          "execution_count": 69
        }
      ]
    },
    {
      "cell_type": "code",
      "metadata": {
        "colab": {
          "base_uri": "https://localhost:8080/"
        },
        "id": "8QIaRg9Xv7nm",
        "outputId": "294ec313-a000-4997-8fe1-29833eacfcb6"
      },
      "source": [
        "from sklearn.metrics import f1_score\n",
        "f1_score(final_test_prediction['target'], final_test_prediction['predicted_target'])"
      ],
      "execution_count": null,
      "outputs": [
        {
          "output_type": "execute_result",
          "data": {
            "text/plain": [
              "0.8450704225352113"
            ]
          },
          "metadata": {},
          "execution_count": 76
        }
      ]
    },
    {
      "cell_type": "markdown",
      "metadata": {
        "id": "0OswRBvwvGhq"
      },
      "source": [
        "# Conclusion"
      ]
    },
    {
      "cell_type": "markdown",
      "metadata": {
        "id": "XQ7MlD48vaTV"
      },
      "source": [
        "This report shows that how to preprocess the data including picking appropriate features and how to make use of features to make prediction for any unseen data. The key part here is to choose a promissing model that can give the best prediction. In order to do it, I employ Bayesian Optimization to do hyperparameter tuning. During the process, I define the hyperparameters' range by trial-and-error. Finally, the testing result from the test data verifies the chosen model works well and the prediction is quite reliable. If more time is permitted, I will increase the number of evaluations in Bayesian Optimization part and improve F1 score. In conclustion, the report showcases the rountine process of classification clearly and precisely."
      ]
    }
  ]
}